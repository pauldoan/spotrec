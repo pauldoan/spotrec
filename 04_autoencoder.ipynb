{
 "cells": [
  {
   "cell_type": "markdown",
   "metadata": {},
   "source": [
    "# AutoEncoders"
   ]
  },
  {
   "cell_type": "code",
   "execution_count": 1,
   "metadata": {},
   "outputs": [
    {
     "name": "stdout",
     "output_type": "stream",
     "text": [
      "MPS available: True\n",
      "Computation device: mps\n"
     ]
    }
   ],
   "source": [
    "# import libraries\n",
    "import pandas as pd\n",
    "import matplotlib.pyplot as plt\n",
    "import seaborn as sns\n",
    "from sklearn.model_selection import train_test_split\n",
    "from tqdm.auto import tqdm\n",
    "import torch\n",
    "import torch.nn as nn\n",
    "import torch.optim as optim\n",
    "from torch.utils.data import Dataset, DataLoader\n",
    "\n",
    "sns.set()\n",
    "\n",
    "# Check if MPS is available\n",
    "print(\"MPS available:\", torch.backends.mps.is_available())\n",
    "\n",
    "# Set device\n",
    "device = torch.device(\"mps\" if torch.backends.mps.is_available() else \"cpu\")\n",
    "print(\"Computation device:\", device)"
   ]
  },
  {
   "cell_type": "markdown",
   "metadata": {},
   "source": [
    "## Loading Data"
   ]
  },
  {
   "cell_type": "code",
   "execution_count": 2,
   "metadata": {},
   "outputs": [
    {
     "data": {
      "text/html": [
       "<div>\n",
       "<style scoped>\n",
       "    .dataframe tbody tr th:only-of-type {\n",
       "        vertical-align: middle;\n",
       "    }\n",
       "\n",
       "    .dataframe tbody tr th {\n",
       "        vertical-align: top;\n",
       "    }\n",
       "\n",
       "    .dataframe thead th {\n",
       "        text-align: right;\n",
       "    }\n",
       "</style>\n",
       "<table border=\"1\" class=\"dataframe\">\n",
       "  <thead>\n",
       "    <tr style=\"text-align: right;\">\n",
       "      <th></th>\n",
       "      <th>user_id</th>\n",
       "      <th>song_id</th>\n",
       "      <th>freq</th>\n",
       "      <th>artist</th>\n",
       "      <th>title</th>\n",
       "      <th>interaction</th>\n",
       "    </tr>\n",
       "  </thead>\n",
       "  <tbody>\n",
       "    <tr>\n",
       "      <th>0</th>\n",
       "      <td>05b9035fe02ebdf5535ae9ec07de1e935ffa43df</td>\n",
       "      <td>SOMWTWK12AB01860CD</td>\n",
       "      <td>2.0</td>\n",
       "      <td>Vampire Weekend</td>\n",
       "      <td>White Sky</td>\n",
       "      <td>1</td>\n",
       "    </tr>\n",
       "    <tr>\n",
       "      <th>1</th>\n",
       "      <td>05b9035fe02ebdf5535ae9ec07de1e935ffa43df</td>\n",
       "      <td>SOBKRVG12A8C133269</td>\n",
       "      <td>1.0</td>\n",
       "      <td>Vampire Weekend</td>\n",
       "      <td>I Stand Corrected (Album)</td>\n",
       "      <td>1</td>\n",
       "    </tr>\n",
       "    <tr>\n",
       "      <th>2</th>\n",
       "      <td>05b9035fe02ebdf5535ae9ec07de1e935ffa43df</td>\n",
       "      <td>SOXFXDH12A8C13326E</td>\n",
       "      <td>1.0</td>\n",
       "      <td>Vampire Weekend</td>\n",
       "      <td>The Kids Don\u0019t Stand A Chance (Album)</td>\n",
       "      <td>1</td>\n",
       "    </tr>\n",
       "    <tr>\n",
       "      <th>3</th>\n",
       "      <td>05b9035fe02ebdf5535ae9ec07de1e935ffa43df</td>\n",
       "      <td>SOAYETG12A67ADA751</td>\n",
       "      <td>1.0</td>\n",
       "      <td>MIKA</td>\n",
       "      <td>Grace Kelly</td>\n",
       "      <td>1</td>\n",
       "    </tr>\n",
       "    <tr>\n",
       "      <th>4</th>\n",
       "      <td>05b9035fe02ebdf5535ae9ec07de1e935ffa43df</td>\n",
       "      <td>SOUFNSM12A58A77715</td>\n",
       "      <td>1.0</td>\n",
       "      <td>Vampire Weekend</td>\n",
       "      <td>Walcott (Album)</td>\n",
       "      <td>1</td>\n",
       "    </tr>\n",
       "  </tbody>\n",
       "</table>\n",
       "</div>"
      ],
      "text/plain": [
       "                                    user_id             song_id  freq  \\\n",
       "0  05b9035fe02ebdf5535ae9ec07de1e935ffa43df  SOMWTWK12AB01860CD   2.0   \n",
       "1  05b9035fe02ebdf5535ae9ec07de1e935ffa43df  SOBKRVG12A8C133269   1.0   \n",
       "2  05b9035fe02ebdf5535ae9ec07de1e935ffa43df  SOXFXDH12A8C13326E   1.0   \n",
       "3  05b9035fe02ebdf5535ae9ec07de1e935ffa43df  SOAYETG12A67ADA751   1.0   \n",
       "4  05b9035fe02ebdf5535ae9ec07de1e935ffa43df  SOUFNSM12A58A77715   1.0   \n",
       "\n",
       "            artist                                  title  interaction  \n",
       "0  Vampire Weekend                              White Sky            1  \n",
       "1  Vampire Weekend              I Stand Corrected (Album)            1  \n",
       "2  Vampire Weekend  The Kids Don\u0019t Stand A Chance (Album)            1  \n",
       "3             MIKA                            Grace Kelly            1  \n",
       "4  Vampire Weekend                        Walcott (Album)            1  "
      ]
     },
     "execution_count": 2,
     "metadata": {},
     "output_type": "execute_result"
    }
   ],
   "source": [
    "# loading data\n",
    "df = pd.read_csv(\"./data/augmented_data.csv\")\n",
    "# here we can remove the negative interactions since autoencoders will try to rebuild the whole vector\n",
    "df = df[df[\"interaction\"] == 1].reset_index(drop=True)\n",
    "df.head()"
   ]
  },
  {
   "cell_type": "code",
   "execution_count": 3,
   "metadata": {},
   "outputs": [
    {
     "data": {
      "text/html": [
       "<div>\n",
       "<style scoped>\n",
       "    .dataframe tbody tr th:only-of-type {\n",
       "        vertical-align: middle;\n",
       "    }\n",
       "\n",
       "    .dataframe tbody tr th {\n",
       "        vertical-align: top;\n",
       "    }\n",
       "\n",
       "    .dataframe thead th {\n",
       "        text-align: right;\n",
       "    }\n",
       "</style>\n",
       "<table border=\"1\" class=\"dataframe\">\n",
       "  <thead>\n",
       "    <tr style=\"text-align: right;\">\n",
       "      <th></th>\n",
       "      <th>user_id</th>\n",
       "      <th>song_id</th>\n",
       "      <th>freq</th>\n",
       "      <th>artist</th>\n",
       "      <th>title</th>\n",
       "      <th>interaction</th>\n",
       "      <th>user_idx</th>\n",
       "      <th>song_idx</th>\n",
       "    </tr>\n",
       "  </thead>\n",
       "  <tbody>\n",
       "    <tr>\n",
       "      <th>0</th>\n",
       "      <td>05b9035fe02ebdf5535ae9ec07de1e935ffa43df</td>\n",
       "      <td>SOMWTWK12AB01860CD</td>\n",
       "      <td>2.0</td>\n",
       "      <td>Vampire Weekend</td>\n",
       "      <td>White Sky</td>\n",
       "      <td>1</td>\n",
       "      <td>0</td>\n",
       "      <td>0</td>\n",
       "    </tr>\n",
       "    <tr>\n",
       "      <th>1</th>\n",
       "      <td>05b9035fe02ebdf5535ae9ec07de1e935ffa43df</td>\n",
       "      <td>SOBKRVG12A8C133269</td>\n",
       "      <td>1.0</td>\n",
       "      <td>Vampire Weekend</td>\n",
       "      <td>I Stand Corrected (Album)</td>\n",
       "      <td>1</td>\n",
       "      <td>0</td>\n",
       "      <td>1</td>\n",
       "    </tr>\n",
       "    <tr>\n",
       "      <th>2</th>\n",
       "      <td>05b9035fe02ebdf5535ae9ec07de1e935ffa43df</td>\n",
       "      <td>SOXFXDH12A8C13326E</td>\n",
       "      <td>1.0</td>\n",
       "      <td>Vampire Weekend</td>\n",
       "      <td>The Kids Don\u0019t Stand A Chance (Album)</td>\n",
       "      <td>1</td>\n",
       "      <td>0</td>\n",
       "      <td>2</td>\n",
       "    </tr>\n",
       "    <tr>\n",
       "      <th>3</th>\n",
       "      <td>05b9035fe02ebdf5535ae9ec07de1e935ffa43df</td>\n",
       "      <td>SOAYETG12A67ADA751</td>\n",
       "      <td>1.0</td>\n",
       "      <td>MIKA</td>\n",
       "      <td>Grace Kelly</td>\n",
       "      <td>1</td>\n",
       "      <td>0</td>\n",
       "      <td>3</td>\n",
       "    </tr>\n",
       "    <tr>\n",
       "      <th>4</th>\n",
       "      <td>05b9035fe02ebdf5535ae9ec07de1e935ffa43df</td>\n",
       "      <td>SOUFNSM12A58A77715</td>\n",
       "      <td>1.0</td>\n",
       "      <td>Vampire Weekend</td>\n",
       "      <td>Walcott (Album)</td>\n",
       "      <td>1</td>\n",
       "      <td>0</td>\n",
       "      <td>4</td>\n",
       "    </tr>\n",
       "    <tr>\n",
       "      <th>...</th>\n",
       "      <td>...</td>\n",
       "      <td>...</td>\n",
       "      <td>...</td>\n",
       "      <td>...</td>\n",
       "      <td>...</td>\n",
       "      <td>...</td>\n",
       "      <td>...</td>\n",
       "      <td>...</td>\n",
       "    </tr>\n",
       "    <tr>\n",
       "      <th>151159</th>\n",
       "      <td>07f2f354a2a4390624e0d04e4a555ef67e98f673</td>\n",
       "      <td>SODPPBT12A8C141D90</td>\n",
       "      <td>9.0</td>\n",
       "      <td>Kings Of Leon</td>\n",
       "      <td>Closer</td>\n",
       "      <td>1</td>\n",
       "      <td>11211</td>\n",
       "      <td>133</td>\n",
       "    </tr>\n",
       "    <tr>\n",
       "      <th>151160</th>\n",
       "      <td>07f2f354a2a4390624e0d04e4a555ef67e98f673</td>\n",
       "      <td>SOEMRIK12A8C133722</td>\n",
       "      <td>4.0</td>\n",
       "      <td>Radiohead</td>\n",
       "      <td>Jigsaw Falling Into Place</td>\n",
       "      <td>1</td>\n",
       "      <td>11211</td>\n",
       "      <td>1011</td>\n",
       "    </tr>\n",
       "    <tr>\n",
       "      <th>151161</th>\n",
       "      <td>07f2f354a2a4390624e0d04e4a555ef67e98f673</td>\n",
       "      <td>SOUSOOB12A8C13371F</td>\n",
       "      <td>6.0</td>\n",
       "      <td>Radiohead</td>\n",
       "      <td>House Of Cards</td>\n",
       "      <td>1</td>\n",
       "      <td>11211</td>\n",
       "      <td>1338</td>\n",
       "    </tr>\n",
       "    <tr>\n",
       "      <th>151162</th>\n",
       "      <td>07f2f354a2a4390624e0d04e4a555ef67e98f673</td>\n",
       "      <td>SOWCKVR12A8C142411</td>\n",
       "      <td>4.0</td>\n",
       "      <td>Kings Of Leon</td>\n",
       "      <td>Use Somebody</td>\n",
       "      <td>1</td>\n",
       "      <td>11211</td>\n",
       "      <td>69</td>\n",
       "    </tr>\n",
       "    <tr>\n",
       "      <th>151163</th>\n",
       "      <td>07f2f354a2a4390624e0d04e4a555ef67e98f673</td>\n",
       "      <td>SONGIXY12A58A7BB42</td>\n",
       "      <td>10.0</td>\n",
       "      <td>LCD Soundsystem</td>\n",
       "      <td>Someone Great</td>\n",
       "      <td>1</td>\n",
       "      <td>11211</td>\n",
       "      <td>1975</td>\n",
       "    </tr>\n",
       "  </tbody>\n",
       "</table>\n",
       "<p>151164 rows × 8 columns</p>\n",
       "</div>"
      ],
      "text/plain": [
       "                                         user_id             song_id  freq  \\\n",
       "0       05b9035fe02ebdf5535ae9ec07de1e935ffa43df  SOMWTWK12AB01860CD   2.0   \n",
       "1       05b9035fe02ebdf5535ae9ec07de1e935ffa43df  SOBKRVG12A8C133269   1.0   \n",
       "2       05b9035fe02ebdf5535ae9ec07de1e935ffa43df  SOXFXDH12A8C13326E   1.0   \n",
       "3       05b9035fe02ebdf5535ae9ec07de1e935ffa43df  SOAYETG12A67ADA751   1.0   \n",
       "4       05b9035fe02ebdf5535ae9ec07de1e935ffa43df  SOUFNSM12A58A77715   1.0   \n",
       "...                                          ...                 ...   ...   \n",
       "151159  07f2f354a2a4390624e0d04e4a555ef67e98f673  SODPPBT12A8C141D90   9.0   \n",
       "151160  07f2f354a2a4390624e0d04e4a555ef67e98f673  SOEMRIK12A8C133722   4.0   \n",
       "151161  07f2f354a2a4390624e0d04e4a555ef67e98f673  SOUSOOB12A8C13371F   6.0   \n",
       "151162  07f2f354a2a4390624e0d04e4a555ef67e98f673  SOWCKVR12A8C142411   4.0   \n",
       "151163  07f2f354a2a4390624e0d04e4a555ef67e98f673  SONGIXY12A58A7BB42  10.0   \n",
       "\n",
       "                 artist                                  title  interaction  \\\n",
       "0       Vampire Weekend                              White Sky            1   \n",
       "1       Vampire Weekend              I Stand Corrected (Album)            1   \n",
       "2       Vampire Weekend  The Kids Don\u0019t Stand A Chance (Album)            1   \n",
       "3                  MIKA                            Grace Kelly            1   \n",
       "4       Vampire Weekend                        Walcott (Album)            1   \n",
       "...                 ...                                    ...          ...   \n",
       "151159    Kings Of Leon                                 Closer            1   \n",
       "151160        Radiohead              Jigsaw Falling Into Place            1   \n",
       "151161        Radiohead                         House Of Cards            1   \n",
       "151162    Kings Of Leon                           Use Somebody            1   \n",
       "151163  LCD Soundsystem                          Someone Great            1   \n",
       "\n",
       "        user_idx  song_idx  \n",
       "0              0         0  \n",
       "1              0         1  \n",
       "2              0         2  \n",
       "3              0         3  \n",
       "4              0         4  \n",
       "...          ...       ...  \n",
       "151159     11211       133  \n",
       "151160     11211      1011  \n",
       "151161     11211      1338  \n",
       "151162     11211        69  \n",
       "151163     11211      1975  \n",
       "\n",
       "[151164 rows x 8 columns]"
      ]
     },
     "execution_count": 3,
     "metadata": {},
     "output_type": "execute_result"
    }
   ],
   "source": [
    "# Create categorical mappings\n",
    "user_to_idx = {uid: idx for idx, uid in enumerate(df[\"user_id\"].unique())}\n",
    "song_to_idx = {sid: idx for idx, sid in enumerate(df[\"song_id\"].unique())}\n",
    "\n",
    "# Add numerical indices to the dataframe\n",
    "df[\"user_idx\"] = df[\"user_id\"].map(user_to_idx)\n",
    "df[\"song_idx\"] = df[\"song_id\"].map(song_to_idx)\n",
    "\n",
    "df"
   ]
  },
  {
   "cell_type": "code",
   "execution_count": 4,
   "metadata": {},
   "outputs": [
    {
     "name": "stdout",
     "output_type": "stream",
     "text": [
      "Number of users: 11212, number of songs: 2000\n"
     ]
    }
   ],
   "source": [
    "# let's get the number of users and songs\n",
    "n_users = df[\"user_id\"].nunique()\n",
    "n_songs = df[\"song_id\"].nunique()\n",
    "\n",
    "print(f\"Number of users: {n_users}, number of songs: {n_songs}\")\n"
   ]
  },
  {
   "cell_type": "code",
   "execution_count": 5,
   "metadata": {},
   "outputs": [
    {
     "data": {
      "text/html": [
       "<div>\n",
       "<style scoped>\n",
       "    .dataframe tbody tr th:only-of-type {\n",
       "        vertical-align: middle;\n",
       "    }\n",
       "\n",
       "    .dataframe tbody tr th {\n",
       "        vertical-align: top;\n",
       "    }\n",
       "\n",
       "    .dataframe thead th {\n",
       "        text-align: right;\n",
       "    }\n",
       "</style>\n",
       "<table border=\"1\" class=\"dataframe\">\n",
       "  <thead>\n",
       "    <tr style=\"text-align: right;\">\n",
       "      <th></th>\n",
       "      <th>user_id</th>\n",
       "      <th>song_id</th>\n",
       "      <th>freq</th>\n",
       "      <th>artist</th>\n",
       "      <th>title</th>\n",
       "      <th>interaction</th>\n",
       "      <th>user_idx</th>\n",
       "      <th>song_idx</th>\n",
       "    </tr>\n",
       "  </thead>\n",
       "  <tbody>\n",
       "    <tr>\n",
       "      <th>1307</th>\n",
       "      <td>90d506afcd30ea734e6e629dbb84ec058f226d02</td>\n",
       "      <td>SOOXLND12A6D4FE36E</td>\n",
       "      <td>1.0</td>\n",
       "      <td>Fleetwood Mac</td>\n",
       "      <td>Go Your Own Way (LP Version)</td>\n",
       "      <td>1</td>\n",
       "      <td>93</td>\n",
       "      <td>688</td>\n",
       "    </tr>\n",
       "    <tr>\n",
       "      <th>20746</th>\n",
       "      <td>38f022b1b31eda3002f992b997130a9d23209563</td>\n",
       "      <td>SOHGBHN12A6701F082</td>\n",
       "      <td>1.0</td>\n",
       "      <td>Jack Johnson</td>\n",
       "      <td>Taylor</td>\n",
       "      <td>1</td>\n",
       "      <td>1512</td>\n",
       "      <td>1214</td>\n",
       "    </tr>\n",
       "    <tr>\n",
       "      <th>131161</th>\n",
       "      <td>f32f163b46ce7087fa123b94a0baa2667b406b58</td>\n",
       "      <td>SODJWHY12A8C142CCE</td>\n",
       "      <td>5.0</td>\n",
       "      <td>Train</td>\n",
       "      <td>Hey_ Soul Sister</td>\n",
       "      <td>1</td>\n",
       "      <td>9732</td>\n",
       "      <td>74</td>\n",
       "    </tr>\n",
       "    <tr>\n",
       "      <th>149838</th>\n",
       "      <td>0225648099019b3f6b99182de7b00feac1168115</td>\n",
       "      <td>SOTKYBW12A8C13C3EA</td>\n",
       "      <td>6.0</td>\n",
       "      <td>Bon Iver</td>\n",
       "      <td>Skinny Love</td>\n",
       "      <td>1</td>\n",
       "      <td>11114</td>\n",
       "      <td>680</td>\n",
       "    </tr>\n",
       "    <tr>\n",
       "      <th>52425</th>\n",
       "      <td>6b664561bc67f393cf6d5fffa2dd3b644197698f</td>\n",
       "      <td>SOQGJZA12A8C1367AE</td>\n",
       "      <td>2.0</td>\n",
       "      <td>Katy Perry</td>\n",
       "      <td>Thinking Of You</td>\n",
       "      <td>1</td>\n",
       "      <td>3861</td>\n",
       "      <td>1629</td>\n",
       "    </tr>\n",
       "  </tbody>\n",
       "</table>\n",
       "</div>"
      ],
      "text/plain": [
       "                                         user_id             song_id  freq  \\\n",
       "1307    90d506afcd30ea734e6e629dbb84ec058f226d02  SOOXLND12A6D4FE36E   1.0   \n",
       "20746   38f022b1b31eda3002f992b997130a9d23209563  SOHGBHN12A6701F082   1.0   \n",
       "131161  f32f163b46ce7087fa123b94a0baa2667b406b58  SODJWHY12A8C142CCE   5.0   \n",
       "149838  0225648099019b3f6b99182de7b00feac1168115  SOTKYBW12A8C13C3EA   6.0   \n",
       "52425   6b664561bc67f393cf6d5fffa2dd3b644197698f  SOQGJZA12A8C1367AE   2.0   \n",
       "\n",
       "               artist                         title  interaction  user_idx  \\\n",
       "1307    Fleetwood Mac  Go Your Own Way (LP Version)            1        93   \n",
       "20746    Jack Johnson                        Taylor            1      1512   \n",
       "131161          Train              Hey_ Soul Sister            1      9732   \n",
       "149838       Bon Iver                   Skinny Love            1     11114   \n",
       "52425      Katy Perry               Thinking Of You            1      3861   \n",
       "\n",
       "        song_idx  \n",
       "1307         688  \n",
       "20746       1214  \n",
       "131161        74  \n",
       "149838       680  \n",
       "52425       1629  "
      ]
     },
     "execution_count": 5,
     "metadata": {},
     "output_type": "execute_result"
    }
   ],
   "source": [
    "# split data into training and testing\n",
    "train_df, test_df = train_test_split(df, test_size=0.2)\n",
    "train_df.head()"
   ]
  },
  {
   "cell_type": "code",
   "execution_count": 6,
   "metadata": {},
   "outputs": [],
   "source": [
    "class MusicDataset(Dataset):\n",
    "    def __init__(self, df, n_users, n_songs):\n",
    "        self.interactions = torch.zeros((n_users, n_songs))\n",
    "\n",
    "        # Fill the interaction matrix\n",
    "        for _, row in df.iterrows():\n",
    "            self.interactions[row[\"user_idx\"], row[\"song_idx\"]] = row[\"interaction\"]\n",
    "\n",
    "    def __len__(self):\n",
    "        return len(self.interactions)\n",
    "\n",
    "    def __getitem__(self, idx):\n",
    "        return self.interactions[idx]"
   ]
  },
  {
   "cell_type": "code",
   "execution_count": 7,
   "metadata": {},
   "outputs": [],
   "source": [
    "# Create datasets and dataloaders\n",
    "train_dataset = MusicDataset(train_df, n_users, n_songs)\n",
    "test_dataset = MusicDataset(test_df, n_users, n_songs)"
   ]
  },
  {
   "cell_type": "code",
   "execution_count": 8,
   "metadata": {},
   "outputs": [],
   "source": [
    "# dataloaders\n",
    "batch_size = 64\n",
    "train_loader = DataLoader(train_dataset, batch_size=batch_size, shuffle=True)\n",
    "test_loader = DataLoader(test_dataset, batch_size=batch_size)\n"
   ]
  },
  {
   "cell_type": "markdown",
   "metadata": {},
   "source": [
    "## Model"
   ]
  },
  {
   "cell_type": "code",
   "execution_count": 9,
   "metadata": {},
   "outputs": [],
   "source": [
    "class AutoEncoder(nn.Module):\n",
    "    def __init__(self, n_songs, latent_dim=100):\n",
    "        super().__init__()\n",
    "\n",
    "        # encoder\n",
    "        self.encoder = nn.Sequential(\n",
    "            nn.Linear(n_songs, latent_dim),\n",
    "            nn.BatchNorm1d(latent_dim),\n",
    "            nn.Dropout(0.5),\n",
    "            nn.ReLU(),\n",
    "        )\n",
    "\n",
    "        # decoder\n",
    "        self.decoder = nn.Sequential(\n",
    "            nn.Linear(latent_dim, n_songs),\n",
    "        )\n",
    "\n",
    "    def forward(self, x):\n",
    "        # encoder pass\n",
    "        latent = self.encoder(x)\n",
    "        # decoder pass\n",
    "        reconstructed = self.decoder(latent)\n",
    "        return reconstructed\n",
    "\n",
    "    def get_latent(self, x):\n",
    "        return self.encoder(x)"
   ]
  },
  {
   "cell_type": "code",
   "execution_count": 10,
   "metadata": {},
   "outputs": [
    {
     "data": {
      "text/plain": [
       "AutoEncoder(\n",
       "  (encoder): Sequential(\n",
       "    (0): Linear(in_features=2000, out_features=100, bias=True)\n",
       "    (1): BatchNorm1d(100, eps=1e-05, momentum=0.1, affine=True, track_running_stats=True)\n",
       "    (2): Dropout(p=0.5, inplace=False)\n",
       "    (3): ReLU()\n",
       "  )\n",
       "  (decoder): Sequential(\n",
       "    (0): Linear(in_features=100, out_features=2000, bias=True)\n",
       "  )\n",
       ")"
      ]
     },
     "execution_count": 10,
     "metadata": {},
     "output_type": "execute_result"
    }
   ],
   "source": [
    "# Initialize model\n",
    "model = AutoEncoder(n_songs).to(device)\n",
    "model"
   ]
  },
  {
   "cell_type": "code",
   "execution_count": 11,
   "metadata": {},
   "outputs": [
    {
     "data": {
      "text/plain": [
       "tensor([[0., 0., 0.,  ..., 0., 0., 0.],\n",
       "        [0., 0., 0.,  ..., 0., 0., 0.],\n",
       "        [0., 0., 0.,  ..., 0., 0., 0.],\n",
       "        ...,\n",
       "        [0., 0., 0.,  ..., 0., 0., 0.],\n",
       "        [0., 0., 0.,  ..., 0., 0., 0.],\n",
       "        [0., 0., 0.,  ..., 0., 0., 0.]])"
      ]
     },
     "execution_count": 11,
     "metadata": {},
     "output_type": "execute_result"
    }
   ],
   "source": [
    "next(iter(train_loader))"
   ]
  },
  {
   "cell_type": "code",
   "execution_count": 12,
   "metadata": {},
   "outputs": [
    {
     "data": {
      "text/plain": [
       "torch.Size([64, 2000])"
      ]
     },
     "execution_count": 12,
     "metadata": {},
     "output_type": "execute_result"
    }
   ],
   "source": [
    "# trying to pass data to the model to see if it works\n",
    "user_batch = next(iter(train_loader))\n",
    "# moving to device\n",
    "user_batch = user_batch.to(device)\n",
    "# passing data to the model\n",
    "pred = model(user_batch)\n",
    "pred.shape\n"
   ]
  },
  {
   "cell_type": "markdown",
   "metadata": {},
   "source": [
    "## Training model\n"
   ]
  },
  {
   "cell_type": "code",
   "execution_count": 13,
   "metadata": {},
   "outputs": [],
   "source": [
    "# hyperparameters\n",
    "EPOCHS = 10\n",
    "K = 100  # latent dimensionality\n",
    "REG_LAMBDA = 1e-6  # some regularization"
   ]
  },
  {
   "cell_type": "code",
   "execution_count": 14,
   "metadata": {},
   "outputs": [],
   "source": [
    "# Initialize model\n",
    "model = AutoEncoder(n_songs, K).to(device)\n",
    "model\n",
    "\n",
    "# optimizer\n",
    "optimizer = optim.Adam(model.parameters(), lr=0.001)"
   ]
  },
  {
   "cell_type": "code",
   "execution_count": 15,
   "metadata": {},
   "outputs": [],
   "source": [
    "# we want to penalize the loss only for the non-zero elements\n",
    "def custom_loss(y_pred, y_true):\n",
    "    # mask of 0s and 1s\n",
    "    mask = (y_true != 0).float()\n",
    "    # BCEWithLogitsLoss\n",
    "    bce = nn.BCEWithLogitsLoss(reduction=\"none\")(y_pred, y_true)\n",
    "    # Apply mask\n",
    "    masked_bce = bce * mask\n",
    "\n",
    "    # Add L2 regularization\n",
    "    l2_reg = 0\n",
    "    for param in model.parameters():\n",
    "        l2_reg += torch.norm(param, p=2)\n",
    "\n",
    "    base_loss = torch.sum(masked_bce) / (torch.sum(mask) + 1e-6)\n",
    "    return base_loss + REG_LAMBDA * l2_reg"
   ]
  },
  {
   "cell_type": "code",
   "execution_count": 16,
   "metadata": {},
   "outputs": [
    {
     "data": {
      "application/vnd.jupyter.widget-view+json": {
       "model_id": "9cda6ceb0fd549ceaef7b9b1dd9aaf21",
       "version_major": 2,
       "version_minor": 0
      },
      "text/plain": [
       "Epoch 1/10:   0%|          | 0/176 [00:00<?, ?it/s]"
      ]
     },
     "metadata": {},
     "output_type": "display_data"
    },
    {
     "name": "stdout",
     "output_type": "stream",
     "text": [
      "Epoch 1/10\n",
      "Train Loss: 0.3016\n",
      "Test Loss: 0.1507\n",
      "--------------------------------------------------\n"
     ]
    },
    {
     "data": {
      "application/vnd.jupyter.widget-view+json": {
       "model_id": "671aa582c9604f6eac650bfdc3775456",
       "version_major": 2,
       "version_minor": 0
      },
      "text/plain": [
       "Epoch 2/10:   0%|          | 0/176 [00:00<?, ?it/s]"
      ]
     },
     "metadata": {},
     "output_type": "display_data"
    },
    {
     "name": "stdout",
     "output_type": "stream",
     "text": [
      "Epoch 2/10\n",
      "Train Loss: 0.0556\n",
      "Test Loss: 0.0571\n",
      "--------------------------------------------------\n"
     ]
    },
    {
     "data": {
      "application/vnd.jupyter.widget-view+json": {
       "model_id": "06a9e5ee5e4e440e806903bc785bec31",
       "version_major": 2,
       "version_minor": 0
      },
      "text/plain": [
       "Epoch 3/10:   0%|          | 0/176 [00:00<?, ?it/s]"
      ]
     },
     "metadata": {},
     "output_type": "display_data"
    },
    {
     "name": "stdout",
     "output_type": "stream",
     "text": [
      "Epoch 3/10\n",
      "Train Loss: 0.0192\n",
      "Test Loss: 0.0281\n",
      "--------------------------------------------------\n"
     ]
    },
    {
     "data": {
      "application/vnd.jupyter.widget-view+json": {
       "model_id": "99130a74b08f47dab399904980eb2d9a",
       "version_major": 2,
       "version_minor": 0
      },
      "text/plain": [
       "Epoch 4/10:   0%|          | 0/176 [00:00<?, ?it/s]"
      ]
     },
     "metadata": {},
     "output_type": "display_data"
    },
    {
     "name": "stdout",
     "output_type": "stream",
     "text": [
      "Epoch 4/10\n",
      "Train Loss: 0.0096\n",
      "Test Loss: 0.0171\n",
      "--------------------------------------------------\n"
     ]
    },
    {
     "data": {
      "application/vnd.jupyter.widget-view+json": {
       "model_id": "2c804d9b65fa43f8a89ad2192a1fe447",
       "version_major": 2,
       "version_minor": 0
      },
      "text/plain": [
       "Epoch 5/10:   0%|          | 0/176 [00:00<?, ?it/s]"
      ]
     },
     "metadata": {},
     "output_type": "display_data"
    },
    {
     "name": "stdout",
     "output_type": "stream",
     "text": [
      "Epoch 5/10\n",
      "Train Loss: 0.0058\n",
      "Test Loss: 0.0117\n",
      "--------------------------------------------------\n"
     ]
    },
    {
     "data": {
      "application/vnd.jupyter.widget-view+json": {
       "model_id": "ae0110e8e6804e1995f12dc556871528",
       "version_major": 2,
       "version_minor": 0
      },
      "text/plain": [
       "Epoch 6/10:   0%|          | 0/176 [00:00<?, ?it/s]"
      ]
     },
     "metadata": {},
     "output_type": "display_data"
    },
    {
     "name": "stdout",
     "output_type": "stream",
     "text": [
      "Epoch 6/10\n",
      "Train Loss: 0.0037\n",
      "Test Loss: 0.0080\n",
      "--------------------------------------------------\n"
     ]
    },
    {
     "data": {
      "application/vnd.jupyter.widget-view+json": {
       "model_id": "782aab8856b24ec3b7193ee5ba8e2fa2",
       "version_major": 2,
       "version_minor": 0
      },
      "text/plain": [
       "Epoch 7/10:   0%|          | 0/176 [00:00<?, ?it/s]"
      ]
     },
     "metadata": {},
     "output_type": "display_data"
    },
    {
     "name": "stdout",
     "output_type": "stream",
     "text": [
      "Epoch 7/10\n",
      "Train Loss: 0.0027\n",
      "Test Loss: 0.0058\n",
      "--------------------------------------------------\n"
     ]
    },
    {
     "data": {
      "application/vnd.jupyter.widget-view+json": {
       "model_id": "6827ba8f39d245e9985445ecfc5bdbe5",
       "version_major": 2,
       "version_minor": 0
      },
      "text/plain": [
       "Epoch 8/10:   0%|          | 0/176 [00:00<?, ?it/s]"
      ]
     },
     "metadata": {},
     "output_type": "display_data"
    },
    {
     "name": "stdout",
     "output_type": "stream",
     "text": [
      "Epoch 8/10\n",
      "Train Loss: 0.0021\n",
      "Test Loss: 0.0044\n",
      "--------------------------------------------------\n"
     ]
    },
    {
     "data": {
      "application/vnd.jupyter.widget-view+json": {
       "model_id": "b5150cdd460340feb9638cb2f282f8e3",
       "version_major": 2,
       "version_minor": 0
      },
      "text/plain": [
       "Epoch 9/10:   0%|          | 0/176 [00:00<?, ?it/s]"
      ]
     },
     "metadata": {},
     "output_type": "display_data"
    },
    {
     "name": "stdout",
     "output_type": "stream",
     "text": [
      "Epoch 9/10\n",
      "Train Loss: 0.0016\n",
      "Test Loss: 0.0038\n",
      "--------------------------------------------------\n"
     ]
    },
    {
     "data": {
      "application/vnd.jupyter.widget-view+json": {
       "model_id": "4379c1259fe642f9a3756df0e8cf8e1c",
       "version_major": 2,
       "version_minor": 0
      },
      "text/plain": [
       "Epoch 10/10:   0%|          | 0/176 [00:00<?, ?it/s]"
      ]
     },
     "metadata": {},
     "output_type": "display_data"
    },
    {
     "name": "stdout",
     "output_type": "stream",
     "text": [
      "Epoch 10/10\n",
      "Train Loss: 0.0013\n",
      "Test Loss: 0.0030\n",
      "--------------------------------------------------\n"
     ]
    }
   ],
   "source": [
    "# Training loop\n",
    "train_losses = []\n",
    "test_losses = []\n",
    "best_test_loss = float(\"inf\")\n",
    "\n",
    "for epoch in range(EPOCHS):\n",
    "    # Training\n",
    "    model.train()\n",
    "    train_loss = 0\n",
    "\n",
    "    for batch in tqdm(train_loader, desc=f\"Epoch {epoch + 1}/{EPOCHS}\"):\n",
    "        batch = batch.to(device)\n",
    "\n",
    "        # Forward pass\n",
    "        output = model(batch)\n",
    "        loss = custom_loss(output, batch)\n",
    "\n",
    "        # Backward pass\n",
    "        optimizer.zero_grad()\n",
    "        loss.backward()\n",
    "        optimizer.step()\n",
    "\n",
    "        train_loss += loss.item()\n",
    "\n",
    "    train_loss /= len(train_loader)\n",
    "    train_losses.append(train_loss)\n",
    "\n",
    "    # Evaluation - using train data as input but comparing against test data since autoencoder try to recreate its input!\n",
    "    model.eval()\n",
    "    test_loss = 0\n",
    "    with torch.no_grad():\n",
    "        for train_batch, test_batch in zip(train_loader, test_loader):\n",
    "            train_batch = train_batch.to(device)\n",
    "            test_batch = test_batch.to(device)\n",
    "\n",
    "            # Get reconstruction from training data\n",
    "            output = model(train_batch)\n",
    "\n",
    "            # Compare against test data\n",
    "            loss = custom_loss(output, test_batch)\n",
    "            test_loss += loss.item()\n",
    "\n",
    "    test_loss /= len(test_loader)\n",
    "    test_losses.append(test_loss)\n",
    "\n",
    "    print(f\"Epoch {epoch + 1}/{EPOCHS}\")\n",
    "    print(f\"Train Loss: {train_loss:.4f}\")\n",
    "    print(f\"Test Loss: {test_loss:.4f}\")\n",
    "    print(\"-\" * 50)"
   ]
  },
  {
   "cell_type": "code",
   "execution_count": 17,
   "metadata": {},
   "outputs": [
    {
     "data": {
      "image/png": "[encoded data removed]",
      "text/plain": [
       "<Figure size 1000x500 with 1 Axes>"
      ]
     },
     "metadata": {},
     "output_type": "display_data"
    }
   ],
   "source": [
    "# Plot training curves\n",
    "plt.figure(figsize=(10, 5))\n",
    "plt.plot(train_losses, label=\"Train Loss\")\n",
    "plt.plot(test_losses, label=\"Test Loss\")\n",
    "plt.xlabel(\"Epoch\")\n",
    "plt.ylabel(\"Loss\")\n",
    "plt.title(\"Training and Validation Loss\")\n",
    "plt.legend()\n",
    "plt.show()"
   ]
  },
  {
   "cell_type": "markdown",
   "metadata": {},
   "source": [
    "## making predictions"
   ]
  },
  {
   "cell_type": "code",
   "execution_count": 18,
   "metadata": {},
   "outputs": [
    {
     "data": {
      "text/plain": [
       "['05b9035fe02ebdf5535ae9ec07de1e935ffa43df',\n",
       " '4b9b549e84fb29bfbcf7ab34f01c0bcd1bbf93a5',\n",
       " '6530c4fc41b9110de5d39fe0355fa103c66385f0']"
      ]
     },
     "execution_count": 18,
     "metadata": {},
     "output_type": "execute_result"
    }
   ],
   "source": [
    "sample_user_ids = [\n",
    "    \"05b9035fe02ebdf5535ae9ec07de1e935ffa43df\",\n",
    "    \"4b9b549e84fb29bfbcf7ab34f01c0bcd1bbf93a5\",\n",
    "    \"6530c4fc41b9110de5d39fe0355fa103c66385f0\",\n",
    "]\n",
    "sample_user_ids"
   ]
  },
  {
   "cell_type": "code",
   "execution_count": 19,
   "metadata": {},
   "outputs": [
    {
     "data": {
      "text/plain": [
       "array(['SOMWTWK12AB01860CD', 'SOBKRVG12A8C133269', 'SOXFXDH12A8C13326E',\n",
       "       'SOAYETG12A67ADA751', 'SOUFNSM12A58A77715'], dtype=object)"
      ]
     },
     "execution_count": 19,
     "metadata": {},
     "output_type": "execute_result"
    }
   ],
   "source": [
    "# sample song ids\n",
    "sample_song_ids = df[df[\"user_id\"].isin(sample_user_ids)][\"song_id\"].unique()[:5]\n",
    "sample_song_ids"
   ]
  },
  {
   "cell_type": "code",
   "execution_count": 20,
   "metadata": {},
   "outputs": [],
   "source": [
    "def get_recommendations(model, user_ids, k=3, device=device):\n",
    "    # create user vectors\n",
    "    user_vectors = []\n",
    "    for user_id in user_ids:\n",
    "        user_vector = torch.zeros(n_songs)\n",
    "        user_songs = df[df[\"user_id\"] == user_id][\"song_idx\"].values\n",
    "        user_vector[user_songs] = 1\n",
    "        user_vectors.append(user_vector)\n",
    "\n",
    "    user_vectors = torch.stack(user_vectors).to(device)\n",
    "\n",
    "    model.eval()\n",
    "    with torch.no_grad():\n",
    "        # Get predictions\n",
    "        predictions = torch.sigmoid(model(user_vectors))\n",
    "\n",
    "        # Move back to CPU for numpy operations\n",
    "        predictions = predictions.cpu()\n",
    "\n",
    "        # Set already listened songs to -inf\n",
    "        predictions[user_vectors.cpu() > 0] = float(\"-inf\")\n",
    "\n",
    "        # Get top-k values and indices\n",
    "        values, indices = torch.topk(predictions, k)\n",
    "\n",
    "    # Create reverse mapping for song indices to IDs\n",
    "    idx_to_song = {idx: sid for sid, idx in song_to_idx.items()}\n",
    "\n",
    "    # Create recommendations dictionary\n",
    "    recommendations = {}\n",
    "    for i, user_id in enumerate(user_ids):\n",
    "        user_recommendations = []\n",
    "        for value, idx in zip(values[i], indices[i]):\n",
    "            song_id = idx_to_song[idx.item()]\n",
    "            artist = df[df[\"song_id\"] == song_id][\"artist\"].iloc[0]\n",
    "            title = df[df[\"song_id\"] == song_id][\"title\"].iloc[0]\n",
    "            song_name = f\"{artist} - {title}\"\n",
    "            user_recommendations.append((song_name, value.item()))\n",
    "        recommendations[user_id] = user_recommendations\n",
    "\n",
    "    return recommendations"
   ]
  },
  {
   "cell_type": "code",
   "execution_count": 21,
   "metadata": {},
   "outputs": [
    {
     "data": {
      "text/plain": [
       "{'05b9035fe02ebdf5535ae9ec07de1e935ffa43df': [('Cartola - Tive Sim',\n",
       "   0.999983549118042),\n",
       "  ('Usher featuring will.i.am - OMG', 0.9999797344207764),\n",
       "  ('Alliance Ethnik - Représente', 0.9999781847000122)],\n",
       " '4b9b549e84fb29bfbcf7ab34f01c0bcd1bbf93a5': [('Kid Cudi / MGMT / Ratatat - Pursuit Of Happiness (nightmare)',\n",
       "   0.9999080896377563),\n",
       "  ('Usher featuring will.i.am - OMG', 0.9998760223388672),\n",
       "  ('Future Rock - Gears', 0.9998582601547241)],\n",
       " '6530c4fc41b9110de5d39fe0355fa103c66385f0': [('Train - Hey_ Soul Sister',\n",
       "   0.9999678134918213),\n",
       "  ('Lil Wayne / Eminem - Drop The World', 0.9999552965164185),\n",
       "  ('Kid Cudi / MGMT / Ratatat - Pursuit Of Happiness (nightmare)',\n",
       "   0.9999535083770752)]}"
      ]
     },
     "execution_count": 21,
     "metadata": {},
     "output_type": "execute_result"
    }
   ],
   "source": [
    "get_recommendations(model, sample_user_ids)"
   ]
  },
  {
   "cell_type": "markdown",
   "metadata": {},
   "source": [
    "Here we can evaluate some recommendation for a hardcore fan of an artist"
   ]
  },
  {
   "cell_type": "code",
   "execution_count": 22,
   "metadata": {},
   "outputs": [
    {
     "data": {
      "text/html": [
       "<div>\n",
       "<style scoped>\n",
       "    .dataframe tbody tr th:only-of-type {\n",
       "        vertical-align: middle;\n",
       "    }\n",
       "\n",
       "    .dataframe tbody tr th {\n",
       "        vertical-align: top;\n",
       "    }\n",
       "\n",
       "    .dataframe thead th {\n",
       "        text-align: right;\n",
       "    }\n",
       "</style>\n",
       "<table border=\"1\" class=\"dataframe\">\n",
       "  <thead>\n",
       "    <tr style=\"text-align: right;\">\n",
       "      <th></th>\n",
       "      <th>total_songs</th>\n",
       "      <th>artist_songs</th>\n",
       "      <th>ratio</th>\n",
       "    </tr>\n",
       "    <tr>\n",
       "      <th>user_id</th>\n",
       "      <th></th>\n",
       "      <th></th>\n",
       "      <th></th>\n",
       "    </tr>\n",
       "  </thead>\n",
       "  <tbody>\n",
       "    <tr>\n",
       "      <th>0003798d61a8010dbfd8010180b7107cbbb8a649</th>\n",
       "      <td>19</td>\n",
       "      <td>1.0</td>\n",
       "      <td>0.052632</td>\n",
       "    </tr>\n",
       "    <tr>\n",
       "      <th>00061a993bb3add5cc37b2ea28a9552337f2fe4d</th>\n",
       "      <td>16</td>\n",
       "      <td>0.0</td>\n",
       "      <td>0.000000</td>\n",
       "    </tr>\n",
       "    <tr>\n",
       "      <th>000a43eb37163bb2f93020e107a2d543f27257b7</th>\n",
       "      <td>11</td>\n",
       "      <td>0.0</td>\n",
       "      <td>0.000000</td>\n",
       "    </tr>\n",
       "    <tr>\n",
       "      <th>000ae9c80733348ff64cd3716a27477b94578d9d</th>\n",
       "      <td>10</td>\n",
       "      <td>0.0</td>\n",
       "      <td>0.000000</td>\n",
       "    </tr>\n",
       "    <tr>\n",
       "      <th>000dd7137b511a0c6e45880de551c6a7019ee4c3</th>\n",
       "      <td>10</td>\n",
       "      <td>0.0</td>\n",
       "      <td>0.000000</td>\n",
       "    </tr>\n",
       "    <tr>\n",
       "      <th>...</th>\n",
       "      <td>...</td>\n",
       "      <td>...</td>\n",
       "      <td>...</td>\n",
       "    </tr>\n",
       "    <tr>\n",
       "      <th>fff3b1ee05d9750e8868de9470ea46fcb0776f66</th>\n",
       "      <td>10</td>\n",
       "      <td>0.0</td>\n",
       "      <td>0.000000</td>\n",
       "    </tr>\n",
       "    <tr>\n",
       "      <th>fff4438f5d96c5ecd66678f2a22fd7bbed59625f</th>\n",
       "      <td>11</td>\n",
       "      <td>0.0</td>\n",
       "      <td>0.000000</td>\n",
       "    </tr>\n",
       "    <tr>\n",
       "      <th>fff5304527f3c658ce48cd7afa5b76b7b4172852</th>\n",
       "      <td>16</td>\n",
       "      <td>1.0</td>\n",
       "      <td>0.062500</td>\n",
       "    </tr>\n",
       "    <tr>\n",
       "      <th>fffd0a1b26c37a55574d844277d176991d054f99</th>\n",
       "      <td>17</td>\n",
       "      <td>0.0</td>\n",
       "      <td>0.000000</td>\n",
       "    </tr>\n",
       "    <tr>\n",
       "      <th>fffe5b73c50c72ca9c54947efac1fcacf59c4a17</th>\n",
       "      <td>13</td>\n",
       "      <td>0.0</td>\n",
       "      <td>0.000000</td>\n",
       "    </tr>\n",
       "  </tbody>\n",
       "</table>\n",
       "<p>11212 rows × 3 columns</p>\n",
       "</div>"
      ],
      "text/plain": [
       "                                          total_songs  artist_songs     ratio\n",
       "user_id                                                                      \n",
       "0003798d61a8010dbfd8010180b7107cbbb8a649           19           1.0  0.052632\n",
       "00061a993bb3add5cc37b2ea28a9552337f2fe4d           16           0.0  0.000000\n",
       "000a43eb37163bb2f93020e107a2d543f27257b7           11           0.0  0.000000\n",
       "000ae9c80733348ff64cd3716a27477b94578d9d           10           0.0  0.000000\n",
       "000dd7137b511a0c6e45880de551c6a7019ee4c3           10           0.0  0.000000\n",
       "...                                               ...           ...       ...\n",
       "fff3b1ee05d9750e8868de9470ea46fcb0776f66           10           0.0  0.000000\n",
       "fff4438f5d96c5ecd66678f2a22fd7bbed59625f           11           0.0  0.000000\n",
       "fff5304527f3c658ce48cd7afa5b76b7b4172852           16           1.0  0.062500\n",
       "fffd0a1b26c37a55574d844277d176991d054f99           17           0.0  0.000000\n",
       "fffe5b73c50c72ca9c54947efac1fcacf59c4a17           13           0.0  0.000000\n",
       "\n",
       "[11212 rows x 3 columns]"
      ]
     },
     "execution_count": 22,
     "metadata": {},
     "output_type": "execute_result"
    }
   ],
   "source": [
    "# get specific artist data\n",
    "artist_df = df[(df.artist == \"Eminem\") & (df.interaction == 1)]\n",
    "\n",
    "# Get users who listen to that artist and their total song count\n",
    "user_total_songs = df[df.interaction == 1].groupby(\"user_id\").size()\n",
    "user_artist_songs = artist_df.groupby(\"user_id\").size()\n",
    "\n",
    "# Calculate ratio of artist songs to total songs per user\n",
    "artist_ratio = pd.DataFrame(\n",
    "    {\"total_songs\": user_total_songs, \"artist_songs\": user_artist_songs}\n",
    ").fillna(0)\n",
    "artist_ratio[\"ratio\"] = artist_ratio[\"artist_songs\"] / artist_ratio[\"total_songs\"]\n",
    "artist_ratio"
   ]
  },
  {
   "cell_type": "code",
   "execution_count": 23,
   "metadata": {},
   "outputs": [
    {
     "name": "stdout",
     "output_type": "stream",
     "text": [
      "Top Eminem fans (by ratio of Eminem songs to total songs):\n",
      "                                          total_songs  artist_songs     ratio\n",
      "user_id                                                                      \n",
      "1abe450971e4ea9fea6d1c48c36732bbfb2895dc           10           7.0  0.700000\n",
      "73ad7d3f143b0d7ff5f7e0e1f0f07913e9943755           11           6.0  0.545455\n",
      "4718c9a2a51067ab538fb460beefa0459002651c           10           5.0  0.500000\n",
      "7ae393fd4e7e048fedfe228ca209ae44da21a3c6           10           5.0  0.500000\n",
      "6c6083f4a8b1e0f6ef264203f5583c36628b3b94           10           5.0  0.500000\n"
     ]
    }
   ],
   "source": [
    "# Find users with high artist ratio and a minimum number of artist songs\n",
    "dedicated_fans = artist_ratio[\n",
    "    (artist_ratio[\"ratio\"] > 0.3) & (artist_ratio[\"artist_songs\"] > 3)\n",
    "].sort_values(\"ratio\", ascending=False)\n",
    "print(\"Top Eminem fans (by ratio of Eminem songs to total songs):\")\n",
    "print(dedicated_fans.head())\n",
    "\n",
    "# extract top user id\n",
    "user_id = dedicated_fans.index[0]\n"
   ]
  },
  {
   "cell_type": "code",
   "execution_count": 24,
   "metadata": {},
   "outputs": [
    {
     "data": {
      "text/plain": [
       "{'1abe450971e4ea9fea6d1c48c36732bbfb2895dc': [(\"O'Rosko Raricim - Terre Promise\",\n",
       "   0.9999798536300659),\n",
       "  ('Cartola - Tive Sim', 0.9999738931655884),\n",
       "  (\"Dwight Yoakam - You're The One\", 0.9999691247940063),\n",
       "  ('Alliance Ethnik - Représente', 0.9999680519104004),\n",
       "  ('Drake / Kanye West / Lil Wayne / Eminem - Forever', 0.9999659061431885)]}"
      ]
     },
     "execution_count": 24,
     "metadata": {},
     "output_type": "execute_result"
    }
   ],
   "source": [
    "# get recommendations\n",
    "recommendations = get_recommendations(model, [user_id], k=5, device=device)\n",
    "recommendations\n"
   ]
  },
  {
   "cell_type": "code",
   "execution_count": null,
   "metadata": {},
   "outputs": [],
   "source": []
  }
 ],
 "metadata": {
  "kernelspec": {
   "display_name": ".venv",
   "language": "python",
   "name": "python3"
  },
  "language_info": {
   "codemirror_mode": {
    "name": "ipython",
    "version": 3
   },
   "file_extension": ".py",
   "mimetype": "text/x-python",
   "name": "python",
   "nbconvert_exporter": "python",
   "pygments_lexer": "ipython3",
   "version": "3.11.10"
  }
 },
 "nbformat": 4,
 "nbformat_minor": 2
}
