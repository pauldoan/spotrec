{
 "cells": [
  {
   "cell_type": "markdown",
   "metadata": {},
   "source": [
    "# Matrix Factorization"
   ]
  },
  {
   "cell_type": "code",
   "execution_count": 1,
   "metadata": {},
   "outputs": [],
   "source": [
    "# import libraries\n",
    "import pandas as pd\n",
    "import matplotlib.pyplot as plt\n",
    "import seaborn as sns\n",
    "from sklearn.model_selection import train_test_split\n",
    "from tqdm.auto import tqdm\n",
    "import torch\n",
    "import torch.nn as nn\n",
    "import torch.optim as optim\n",
    "from torch.utils.data import Dataset, DataLoader\n",
    "\n",
    "sns.set()"
   ]
  },
  {
   "cell_type": "code",
   "execution_count": 2,
   "metadata": {},
   "outputs": [
    {
     "name": "stdout",
     "output_type": "stream",
     "text": [
      "MPS available: True\n",
      "Computation device: mps\n"
     ]
    }
   ],
   "source": [
    "# Check if MPS is available\n",
    "print(\"MPS available:\", torch.backends.mps.is_available())\n",
    "\n",
    "# Set device (remove the override)\n",
    "device = torch.device(\"mps\" if torch.backends.mps.is_available() else \"cpu\")\n",
    "print(\"Computation device:\", device)"
   ]
  },
  {
   "cell_type": "markdown",
   "metadata": {},
   "source": [
    "## Loading Data"
   ]
  },
  {
   "cell_type": "code",
   "execution_count": 3,
   "metadata": {},
   "outputs": [
    {
     "data": {
      "text/html": [
       "<div>\n",
       "<style scoped>\n",
       "    .dataframe tbody tr th:only-of-type {\n",
       "        vertical-align: middle;\n",
       "    }\n",
       "\n",
       "    .dataframe tbody tr th {\n",
       "        vertical-align: top;\n",
       "    }\n",
       "\n",
       "    .dataframe thead th {\n",
       "        text-align: right;\n",
       "    }\n",
       "</style>\n",
       "<table border=\"1\" class=\"dataframe\">\n",
       "  <thead>\n",
       "    <tr style=\"text-align: right;\">\n",
       "      <th></th>\n",
       "      <th>user_id</th>\n",
       "      <th>song_id</th>\n",
       "      <th>freq</th>\n",
       "      <th>artist</th>\n",
       "      <th>title</th>\n",
       "      <th>interaction</th>\n",
       "    </tr>\n",
       "  </thead>\n",
       "  <tbody>\n",
       "    <tr>\n",
       "      <th>0</th>\n",
       "      <td>05b9035fe02ebdf5535ae9ec07de1e935ffa43df</td>\n",
       "      <td>SOMWTWK12AB01860CD</td>\n",
       "      <td>2.0</td>\n",
       "      <td>Vampire Weekend</td>\n",
       "      <td>White Sky</td>\n",
       "      <td>1</td>\n",
       "    </tr>\n",
       "    <tr>\n",
       "      <th>1</th>\n",
       "      <td>05b9035fe02ebdf5535ae9ec07de1e935ffa43df</td>\n",
       "      <td>SOBKRVG12A8C133269</td>\n",
       "      <td>1.0</td>\n",
       "      <td>Vampire Weekend</td>\n",
       "      <td>I Stand Corrected (Album)</td>\n",
       "      <td>1</td>\n",
       "    </tr>\n",
       "    <tr>\n",
       "      <th>2</th>\n",
       "      <td>05b9035fe02ebdf5535ae9ec07de1e935ffa43df</td>\n",
       "      <td>SOXFXDH12A8C13326E</td>\n",
       "      <td>1.0</td>\n",
       "      <td>Vampire Weekend</td>\n",
       "      <td>The Kids Don\u0019t Stand A Chance (Album)</td>\n",
       "      <td>1</td>\n",
       "    </tr>\n",
       "    <tr>\n",
       "      <th>3</th>\n",
       "      <td>05b9035fe02ebdf5535ae9ec07de1e935ffa43df</td>\n",
       "      <td>SOAYETG12A67ADA751</td>\n",
       "      <td>1.0</td>\n",
       "      <td>MIKA</td>\n",
       "      <td>Grace Kelly</td>\n",
       "      <td>1</td>\n",
       "    </tr>\n",
       "    <tr>\n",
       "      <th>4</th>\n",
       "      <td>05b9035fe02ebdf5535ae9ec07de1e935ffa43df</td>\n",
       "      <td>SOUFNSM12A58A77715</td>\n",
       "      <td>1.0</td>\n",
       "      <td>Vampire Weekend</td>\n",
       "      <td>Walcott (Album)</td>\n",
       "      <td>1</td>\n",
       "    </tr>\n",
       "  </tbody>\n",
       "</table>\n",
       "</div>"
      ],
      "text/plain": [
       "                                    user_id             song_id  freq  \\\n",
       "0  05b9035fe02ebdf5535ae9ec07de1e935ffa43df  SOMWTWK12AB01860CD   2.0   \n",
       "1  05b9035fe02ebdf5535ae9ec07de1e935ffa43df  SOBKRVG12A8C133269   1.0   \n",
       "2  05b9035fe02ebdf5535ae9ec07de1e935ffa43df  SOXFXDH12A8C13326E   1.0   \n",
       "3  05b9035fe02ebdf5535ae9ec07de1e935ffa43df  SOAYETG12A67ADA751   1.0   \n",
       "4  05b9035fe02ebdf5535ae9ec07de1e935ffa43df  SOUFNSM12A58A77715   1.0   \n",
       "\n",
       "            artist                                  title  interaction  \n",
       "0  Vampire Weekend                              White Sky            1  \n",
       "1  Vampire Weekend              I Stand Corrected (Album)            1  \n",
       "2  Vampire Weekend  The Kids Don\u0019t Stand A Chance (Album)            1  \n",
       "3             MIKA                            Grace Kelly            1  \n",
       "4  Vampire Weekend                        Walcott (Album)            1  "
      ]
     },
     "execution_count": 3,
     "metadata": {},
     "output_type": "execute_result"
    }
   ],
   "source": [
    "# loading data\n",
    "df = pd.read_csv(\"./data/augmented_data.csv\")\n",
    "df.head()"
   ]
  },
  {
   "cell_type": "code",
   "execution_count": 4,
   "metadata": {},
   "outputs": [
    {
     "data": {
      "text/html": [
       "<div>\n",
       "<style scoped>\n",
       "    .dataframe tbody tr th:only-of-type {\n",
       "        vertical-align: middle;\n",
       "    }\n",
       "\n",
       "    .dataframe tbody tr th {\n",
       "        vertical-align: top;\n",
       "    }\n",
       "\n",
       "    .dataframe thead th {\n",
       "        text-align: right;\n",
       "    }\n",
       "</style>\n",
       "<table border=\"1\" class=\"dataframe\">\n",
       "  <thead>\n",
       "    <tr style=\"text-align: right;\">\n",
       "      <th></th>\n",
       "      <th>user_id</th>\n",
       "      <th>song_id</th>\n",
       "      <th>freq</th>\n",
       "      <th>artist</th>\n",
       "      <th>title</th>\n",
       "      <th>interaction</th>\n",
       "      <th>user_idx</th>\n",
       "      <th>song_idx</th>\n",
       "    </tr>\n",
       "  </thead>\n",
       "  <tbody>\n",
       "    <tr>\n",
       "      <th>0</th>\n",
       "      <td>05b9035fe02ebdf5535ae9ec07de1e935ffa43df</td>\n",
       "      <td>SOMWTWK12AB01860CD</td>\n",
       "      <td>2.0</td>\n",
       "      <td>Vampire Weekend</td>\n",
       "      <td>White Sky</td>\n",
       "      <td>1</td>\n",
       "      <td>0</td>\n",
       "      <td>0</td>\n",
       "    </tr>\n",
       "    <tr>\n",
       "      <th>1</th>\n",
       "      <td>05b9035fe02ebdf5535ae9ec07de1e935ffa43df</td>\n",
       "      <td>SOBKRVG12A8C133269</td>\n",
       "      <td>1.0</td>\n",
       "      <td>Vampire Weekend</td>\n",
       "      <td>I Stand Corrected (Album)</td>\n",
       "      <td>1</td>\n",
       "      <td>0</td>\n",
       "      <td>1</td>\n",
       "    </tr>\n",
       "    <tr>\n",
       "      <th>2</th>\n",
       "      <td>05b9035fe02ebdf5535ae9ec07de1e935ffa43df</td>\n",
       "      <td>SOXFXDH12A8C13326E</td>\n",
       "      <td>1.0</td>\n",
       "      <td>Vampire Weekend</td>\n",
       "      <td>The Kids Don\u0019t Stand A Chance (Album)</td>\n",
       "      <td>1</td>\n",
       "      <td>0</td>\n",
       "      <td>2</td>\n",
       "    </tr>\n",
       "    <tr>\n",
       "      <th>3</th>\n",
       "      <td>05b9035fe02ebdf5535ae9ec07de1e935ffa43df</td>\n",
       "      <td>SOAYETG12A67ADA751</td>\n",
       "      <td>1.0</td>\n",
       "      <td>MIKA</td>\n",
       "      <td>Grace Kelly</td>\n",
       "      <td>1</td>\n",
       "      <td>0</td>\n",
       "      <td>3</td>\n",
       "    </tr>\n",
       "    <tr>\n",
       "      <th>4</th>\n",
       "      <td>05b9035fe02ebdf5535ae9ec07de1e935ffa43df</td>\n",
       "      <td>SOUFNSM12A58A77715</td>\n",
       "      <td>1.0</td>\n",
       "      <td>Vampire Weekend</td>\n",
       "      <td>Walcott (Album)</td>\n",
       "      <td>1</td>\n",
       "      <td>0</td>\n",
       "      <td>4</td>\n",
       "    </tr>\n",
       "    <tr>\n",
       "      <th>...</th>\n",
       "      <td>...</td>\n",
       "      <td>...</td>\n",
       "      <td>...</td>\n",
       "      <td>...</td>\n",
       "      <td>...</td>\n",
       "      <td>...</td>\n",
       "      <td>...</td>\n",
       "      <td>...</td>\n",
       "    </tr>\n",
       "    <tr>\n",
       "      <th>604651</th>\n",
       "      <td>07f2f354a2a4390624e0d04e4a555ef67e98f673</td>\n",
       "      <td>SOXELPB12A8AE46000</td>\n",
       "      <td>NaN</td>\n",
       "      <td>Faithless Featuring Dido</td>\n",
       "      <td>One Step Too Far</td>\n",
       "      <td>0</td>\n",
       "      <td>11211</td>\n",
       "      <td>157</td>\n",
       "    </tr>\n",
       "    <tr>\n",
       "      <th>604652</th>\n",
       "      <td>07f2f354a2a4390624e0d04e4a555ef67e98f673</td>\n",
       "      <td>SOQWYAQ12A6D4FB9A3</td>\n",
       "      <td>NaN</td>\n",
       "      <td>Rihanna</td>\n",
       "      <td>Take A Bow</td>\n",
       "      <td>0</td>\n",
       "      <td>11211</td>\n",
       "      <td>56</td>\n",
       "    </tr>\n",
       "    <tr>\n",
       "      <th>604653</th>\n",
       "      <td>07f2f354a2a4390624e0d04e4a555ef67e98f673</td>\n",
       "      <td>SOKTYZO12A8C13E5D9</td>\n",
       "      <td>NaN</td>\n",
       "      <td>Calle 13</td>\n",
       "      <td>Sin Coro</td>\n",
       "      <td>0</td>\n",
       "      <td>11211</td>\n",
       "      <td>1997</td>\n",
       "    </tr>\n",
       "    <tr>\n",
       "      <th>604654</th>\n",
       "      <td>07f2f354a2a4390624e0d04e4a555ef67e98f673</td>\n",
       "      <td>SOXEZLY12A8C137AB0</td>\n",
       "      <td>NaN</td>\n",
       "      <td>Explosions In The Sky</td>\n",
       "      <td>Your Hand In Mine</td>\n",
       "      <td>0</td>\n",
       "      <td>11211</td>\n",
       "      <td>689</td>\n",
       "    </tr>\n",
       "    <tr>\n",
       "      <th>604655</th>\n",
       "      <td>07f2f354a2a4390624e0d04e4a555ef67e98f673</td>\n",
       "      <td>SODOWUC12AC9097E76</td>\n",
       "      <td>NaN</td>\n",
       "      <td>Justin Bieber</td>\n",
       "      <td>One Time</td>\n",
       "      <td>0</td>\n",
       "      <td>11211</td>\n",
       "      <td>102</td>\n",
       "    </tr>\n",
       "  </tbody>\n",
       "</table>\n",
       "<p>604656 rows × 8 columns</p>\n",
       "</div>"
      ],
      "text/plain": [
       "                                         user_id             song_id  freq  \\\n",
       "0       05b9035fe02ebdf5535ae9ec07de1e935ffa43df  SOMWTWK12AB01860CD   2.0   \n",
       "1       05b9035fe02ebdf5535ae9ec07de1e935ffa43df  SOBKRVG12A8C133269   1.0   \n",
       "2       05b9035fe02ebdf5535ae9ec07de1e935ffa43df  SOXFXDH12A8C13326E   1.0   \n",
       "3       05b9035fe02ebdf5535ae9ec07de1e935ffa43df  SOAYETG12A67ADA751   1.0   \n",
       "4       05b9035fe02ebdf5535ae9ec07de1e935ffa43df  SOUFNSM12A58A77715   1.0   \n",
       "...                                          ...                 ...   ...   \n",
       "604651  07f2f354a2a4390624e0d04e4a555ef67e98f673  SOXELPB12A8AE46000   NaN   \n",
       "604652  07f2f354a2a4390624e0d04e4a555ef67e98f673  SOQWYAQ12A6D4FB9A3   NaN   \n",
       "604653  07f2f354a2a4390624e0d04e4a555ef67e98f673  SOKTYZO12A8C13E5D9   NaN   \n",
       "604654  07f2f354a2a4390624e0d04e4a555ef67e98f673  SOXEZLY12A8C137AB0   NaN   \n",
       "604655  07f2f354a2a4390624e0d04e4a555ef67e98f673  SODOWUC12AC9097E76   NaN   \n",
       "\n",
       "                          artist                                  title  \\\n",
       "0                Vampire Weekend                              White Sky   \n",
       "1                Vampire Weekend              I Stand Corrected (Album)   \n",
       "2                Vampire Weekend  The Kids Don\u0019t Stand A Chance (Album)   \n",
       "3                           MIKA                            Grace Kelly   \n",
       "4                Vampire Weekend                        Walcott (Album)   \n",
       "...                          ...                                    ...   \n",
       "604651  Faithless Featuring Dido                       One Step Too Far   \n",
       "604652                   Rihanna                             Take A Bow   \n",
       "604653                  Calle 13                               Sin Coro   \n",
       "604654     Explosions In The Sky                      Your Hand In Mine   \n",
       "604655             Justin Bieber                               One Time   \n",
       "\n",
       "        interaction  user_idx  song_idx  \n",
       "0                 1         0         0  \n",
       "1                 1         0         1  \n",
       "2                 1         0         2  \n",
       "3                 1         0         3  \n",
       "4                 1         0         4  \n",
       "...             ...       ...       ...  \n",
       "604651            0     11211       157  \n",
       "604652            0     11211        56  \n",
       "604653            0     11211      1997  \n",
       "604654            0     11211       689  \n",
       "604655            0     11211       102  \n",
       "\n",
       "[604656 rows x 8 columns]"
      ]
     },
     "execution_count": 4,
     "metadata": {},
     "output_type": "execute_result"
    }
   ],
   "source": [
    "# Create categorical mappings\n",
    "user_to_idx = {uid: idx for idx, uid in enumerate(df[\"user_id\"].unique())}\n",
    "song_to_idx = {sid: idx for idx, sid in enumerate(df[\"song_id\"].unique())}\n",
    "\n",
    "# Add numerical indices to the dataframe\n",
    "df[\"user_idx\"] = df[\"user_id\"].map(user_to_idx)\n",
    "df[\"song_idx\"] = df[\"song_id\"].map(song_to_idx)\n",
    "\n",
    "df"
   ]
  },
  {
   "cell_type": "markdown",
   "metadata": {},
   "source": [
    "## Creating Dataset and Dataloaders"
   ]
  },
  {
   "cell_type": "code",
   "execution_count": 5,
   "metadata": {},
   "outputs": [],
   "source": [
    "# let's get the number of users and songs\n",
    "n_users = df[\"user_id\"].nunique()\n",
    "n_songs = df[\"song_id\"].nunique()"
   ]
  },
  {
   "cell_type": "code",
   "execution_count": 6,
   "metadata": {},
   "outputs": [
    {
     "data": {
      "text/html": [
       "<div>\n",
       "<style scoped>\n",
       "    .dataframe tbody tr th:only-of-type {\n",
       "        vertical-align: middle;\n",
       "    }\n",
       "\n",
       "    .dataframe tbody tr th {\n",
       "        vertical-align: top;\n",
       "    }\n",
       "\n",
       "    .dataframe thead th {\n",
       "        text-align: right;\n",
       "    }\n",
       "</style>\n",
       "<table border=\"1\" class=\"dataframe\">\n",
       "  <thead>\n",
       "    <tr style=\"text-align: right;\">\n",
       "      <th></th>\n",
       "      <th>user_id</th>\n",
       "      <th>song_id</th>\n",
       "      <th>freq</th>\n",
       "      <th>artist</th>\n",
       "      <th>title</th>\n",
       "      <th>interaction</th>\n",
       "      <th>user_idx</th>\n",
       "      <th>song_idx</th>\n",
       "    </tr>\n",
       "  </thead>\n",
       "  <tbody>\n",
       "    <tr>\n",
       "      <th>436406</th>\n",
       "      <td>607a6cf848eff1fbab6352a0c49848d303680006</td>\n",
       "      <td>SOSPXWA12AB0181875</td>\n",
       "      <td>NaN</td>\n",
       "      <td>Jack Johnson</td>\n",
       "      <td>Bubble Toes</td>\n",
       "      <td>0</td>\n",
       "      <td>7047</td>\n",
       "      <td>1125</td>\n",
       "    </tr>\n",
       "    <tr>\n",
       "      <th>305666</th>\n",
       "      <td>b453461f65442c831c56535a77913cb3572b2fde</td>\n",
       "      <td>SOGPBAW12A6D4F9F22</td>\n",
       "      <td>NaN</td>\n",
       "      <td>Bon Jovi</td>\n",
       "      <td>Livin' On A Prayer</td>\n",
       "      <td>0</td>\n",
       "      <td>3792</td>\n",
       "      <td>70</td>\n",
       "    </tr>\n",
       "    <tr>\n",
       "      <th>221166</th>\n",
       "      <td>7fe7f73cd40fca52324a41e3e4760e64bf26d531</td>\n",
       "      <td>SOSXLTC12AF72A7F54</td>\n",
       "      <td>NaN</td>\n",
       "      <td>Kings Of Leon</td>\n",
       "      <td>Revelry</td>\n",
       "      <td>0</td>\n",
       "      <td>1705</td>\n",
       "      <td>55</td>\n",
       "    </tr>\n",
       "    <tr>\n",
       "      <th>311488</th>\n",
       "      <td>aab67789856e4a8c9c7f85c6aa9e8a194ab4c021</td>\n",
       "      <td>SOKXYUW12A8C140229</td>\n",
       "      <td>NaN</td>\n",
       "      <td>Beyoncé feat. Slim Thug</td>\n",
       "      <td>Check On It</td>\n",
       "      <td>0</td>\n",
       "      <td>3936</td>\n",
       "      <td>844</td>\n",
       "    </tr>\n",
       "    <tr>\n",
       "      <th>3448</th>\n",
       "      <td>cf5cf6addec8603e360418acdc534a3e9dac30e1</td>\n",
       "      <td>SOBOUPA12A6D4F81F1</td>\n",
       "      <td>2.0</td>\n",
       "      <td>Alliance Ethnik</td>\n",
       "      <td>Sincerité Et Jalousie</td>\n",
       "      <td>1</td>\n",
       "      <td>254</td>\n",
       "      <td>341</td>\n",
       "    </tr>\n",
       "  </tbody>\n",
       "</table>\n",
       "</div>"
      ],
      "text/plain": [
       "                                         user_id             song_id  freq  \\\n",
       "436406  607a6cf848eff1fbab6352a0c49848d303680006  SOSPXWA12AB0181875   NaN   \n",
       "305666  b453461f65442c831c56535a77913cb3572b2fde  SOGPBAW12A6D4F9F22   NaN   \n",
       "221166  7fe7f73cd40fca52324a41e3e4760e64bf26d531  SOSXLTC12AF72A7F54   NaN   \n",
       "311488  aab67789856e4a8c9c7f85c6aa9e8a194ab4c021  SOKXYUW12A8C140229   NaN   \n",
       "3448    cf5cf6addec8603e360418acdc534a3e9dac30e1  SOBOUPA12A6D4F81F1   2.0   \n",
       "\n",
       "                         artist                  title  interaction  user_idx  \\\n",
       "436406             Jack Johnson            Bubble Toes            0      7047   \n",
       "305666                 Bon Jovi     Livin' On A Prayer            0      3792   \n",
       "221166            Kings Of Leon                Revelry            0      1705   \n",
       "311488  Beyoncé feat. Slim Thug            Check On It            0      3936   \n",
       "3448            Alliance Ethnik  Sincerité Et Jalousie            1       254   \n",
       "\n",
       "        song_idx  \n",
       "436406      1125  \n",
       "305666        70  \n",
       "221166        55  \n",
       "311488       844  \n",
       "3448         341  "
      ]
     },
     "execution_count": 6,
     "metadata": {},
     "output_type": "execute_result"
    }
   ],
   "source": [
    "# split data into training and testing\n",
    "train_df, test_df = train_test_split(df, test_size=0.2)\n",
    "train_df.head()"
   ]
  },
  {
   "cell_type": "code",
   "execution_count": 7,
   "metadata": {},
   "outputs": [],
   "source": [
    "class StreamingDataset(Dataset):\n",
    "    def __init__(self, df, alpha=10.0):  # alpha controls the confidence scaling\n",
    "        self.user_ids = df[\"user_idx\"].values\n",
    "        self.song_ids = df[\"song_idx\"].values\n",
    "        self.interactions = df[\"interaction\"].values\n",
    "        # Calculate confidence to be higher for actual interactions\n",
    "        self.confidence = 1.0 + alpha * self.interactions\n",
    "\n",
    "    def __len__(self):\n",
    "        return len(self.interactions)\n",
    "\n",
    "    def __getitem__(self, idx):\n",
    "        return (\n",
    "            torch.tensor(self.user_ids[idx], dtype=torch.long),\n",
    "            torch.tensor(self.song_ids[idx], dtype=torch.long),\n",
    "            torch.tensor(self.interactions[idx], dtype=torch.float),\n",
    "            torch.tensor(self.confidence[idx], dtype=torch.float),\n",
    "        )"
   ]
  },
  {
   "cell_type": "code",
   "execution_count": 8,
   "metadata": {},
   "outputs": [],
   "source": [
    "# Create datasets\n",
    "train_dataset = StreamingDataset(train_df)\n",
    "test_dataset = StreamingDataset(test_df)"
   ]
  },
  {
   "cell_type": "code",
   "execution_count": 9,
   "metadata": {},
   "outputs": [
    {
     "data": {
      "text/plain": [
       "(tensor(7047), tensor(1125), tensor(0.), tensor(1.))"
      ]
     },
     "execution_count": 9,
     "metadata": {},
     "output_type": "execute_result"
    }
   ],
   "source": [
    "train_dataset[0]\n"
   ]
  },
  {
   "cell_type": "code",
   "execution_count": 10,
   "metadata": {},
   "outputs": [],
   "source": [
    "# Create dataloaders\n",
    "train_loader = DataLoader(train_dataset, batch_size=128, shuffle=True)\n",
    "test_loader = DataLoader(test_dataset, batch_size=len(test_dataset))"
   ]
  },
  {
   "cell_type": "code",
   "execution_count": 11,
   "metadata": {},
   "outputs": [
    {
     "data": {
      "text/plain": [
       "(torch.Size([128]), torch.Size([128]), torch.Size([128]), torch.Size([128]))"
      ]
     },
     "execution_count": 11,
     "metadata": {},
     "output_type": "execute_result"
    }
   ],
   "source": [
    "# getting sample batch\n",
    "user_ids, song_ids, interactions, confidence = next(iter(train_loader))\n",
    "user_ids.shape, song_ids.shape, interactions.shape, confidence.shape\n"
   ]
  },
  {
   "cell_type": "markdown",
   "metadata": {},
   "source": [
    "## Matrix Factorization model"
   ]
  },
  {
   "cell_type": "code",
   "execution_count": 12,
   "metadata": {},
   "outputs": [],
   "source": [
    "# Matrix Factorization model\n",
    "class MatrixFactorization(nn.Module):\n",
    "    def __init__(self, n_users, n_songs, K):\n",
    "        super().__init__()\n",
    "        self.user_factors = nn.Embedding(n_users, K)\n",
    "        self.song_factors = nn.Embedding(n_songs, K)\n",
    "        self.user_bias = nn.Embedding(n_users, 1)\n",
    "        self.song_bias = nn.Embedding(n_songs, 1)\n",
    "        # Initialize weights with normal distribution\n",
    "        nn.init.normal_(self.user_factors.weight, mean=0, std=0.1)\n",
    "        nn.init.normal_(self.song_factors.weight, mean=0, std=0.1)\n",
    "        self.dropout = nn.Dropout(0.2)\n",
    "\n",
    "    def forward(self, user_ids, song_ids):\n",
    "        # Regular forward pass for training\n",
    "        user_vec = self.user_factors(user_ids)  # (n_users, K)\n",
    "        song_vec = self.song_factors(song_ids)  # (n_songs, K)\n",
    "        user_vec = self.dropout(user_vec)  # (n_users, 1)\n",
    "        song_vec = self.dropout(song_vec)  # (n_songs, 1)\n",
    "        user_b = self.user_bias(user_ids).squeeze()\n",
    "        song_b = self.song_bias(song_ids).squeeze()\n",
    "\n",
    "        pred = (user_vec * song_vec).sum(dim=1)  # (n_users, n_songs)\n",
    "        pred = user_b + song_b + pred  # (n_users, n_songs)\n",
    "        return pred\n",
    "\n",
    "    def predict_all_songs(self, user_ids):\n",
    "        \"\"\"\n",
    "        Efficiently predict scores for given users and ALL songs at once\n",
    "        \"\"\"\n",
    "        # Ensure user_ids is 1D\n",
    "        if len(user_ids.shape) == 0:\n",
    "            user_ids = user_ids.unsqueeze(0)\n",
    "\n",
    "        user_vec = self.user_factors(user_ids)\n",
    "        all_song_vec = self.song_factors.weight\n",
    "\n",
    "        # biases\n",
    "        user_b = self.user_bias(user_ids)\n",
    "        all_song_b = self.song_bias.weight\n",
    "\n",
    "        # Matrix multiplication\n",
    "        pred = torch.matmul(user_vec, all_song_vec.t())\n",
    "\n",
    "        # Add biases\n",
    "        pred = pred + user_b + all_song_b.t()\n",
    "        return pred\n"
   ]
  },
  {
   "cell_type": "code",
   "execution_count": 13,
   "metadata": {},
   "outputs": [
    {
     "data": {
      "text/plain": [
       "MatrixFactorization(\n",
       "  (user_factors): Embedding(11212, 4)\n",
       "  (song_factors): Embedding(2000, 4)\n",
       "  (user_bias): Embedding(11212, 1)\n",
       "  (song_bias): Embedding(2000, 1)\n",
       "  (dropout): Dropout(p=0.2, inplace=False)\n",
       ")"
      ]
     },
     "execution_count": 13,
     "metadata": {},
     "output_type": "execute_result"
    }
   ],
   "source": [
    "# building the model\n",
    "model = MatrixFactorization(n_users, n_songs, 4).to(device)\n",
    "model"
   ]
  },
  {
   "cell_type": "code",
   "execution_count": 14,
   "metadata": {},
   "outputs": [
    {
     "data": {
      "text/plain": [
       "torch.Size([128])"
      ]
     },
     "execution_count": 14,
     "metadata": {},
     "output_type": "execute_result"
    }
   ],
   "source": [
    "# trying to pass data to the model to see if it works\n",
    "user_ids, song_ids, interactions, confidence = next(iter(train_loader))\n",
    "# moving to device\n",
    "user_ids = user_ids.to(device)\n",
    "song_ids = song_ids.to(device)\n",
    "\n",
    "# passing data to the model\n",
    "pred = model(user_ids, song_ids)\n",
    "pred.shape\n"
   ]
  },
  {
   "cell_type": "markdown",
   "metadata": {},
   "source": [
    "## Training the model"
   ]
  },
  {
   "cell_type": "code",
   "execution_count": 15,
   "metadata": {},
   "outputs": [],
   "source": [
    "# hyperparameters\n",
    "EPOCHS = 10\n",
    "K = 20  # latent dimensionality\n",
    "REG_LAMBDA = 1e-6  # some regularization"
   ]
  },
  {
   "cell_type": "code",
   "execution_count": 16,
   "metadata": {},
   "outputs": [],
   "source": [
    "# Initialize model\n",
    "model = MatrixFactorization(n_users, n_songs, K)\n",
    "model.to(device)\n",
    "\n",
    "# Initialize optimizer\n",
    "optimizer = optim.Adam(model.parameters(), lr=0.001)"
   ]
  },
  {
   "cell_type": "code",
   "execution_count": 17,
   "metadata": {},
   "outputs": [],
   "source": [
    "# Define weighted loss function, using confidence - real interactions are more important!\n",
    "def loss_fn(pred, target, confidence):\n",
    "    bce_loss = nn.BCEWithLogitsLoss(reduction=\"none\")(pred, target)\n",
    "    # Use confidence scores instead of fixed weights\n",
    "    weighted_loss = bce_loss * confidence\n",
    "    return weighted_loss.mean()"
   ]
  },
  {
   "cell_type": "code",
   "execution_count": 18,
   "metadata": {},
   "outputs": [
    {
     "name": "stdout",
     "output_type": "stream",
     "text": [
      "Model is on device: mps:0\n"
     ]
    }
   ],
   "source": [
    "print(f\"Model is on device: {next(model.parameters()).device}\")"
   ]
  },
  {
   "cell_type": "code",
   "execution_count": 20,
   "metadata": {},
   "outputs": [
    {
     "name": "stdout",
     "output_type": "stream",
     "text": [
      "Epoch 1/10\n",
      "Training...\n"
     ]
    },
    {
     "data": {
      "application/vnd.jupyter.widget-view+json": {
       "model_id": "513d63a5c2364c43a4541e31d288a0be",
       "version_major": 2,
       "version_minor": 0
      },
      "text/plain": [
       "  0%|          | 0/3780 [00:00<?, ?it/s]"
      ]
     },
     "metadata": {},
     "output_type": "display_data"
    },
    {
     "name": "stdout",
     "output_type": "stream",
     "text": [
      "Validating...\n",
      "Train Loss: 2.8654\n",
      "Test Loss: 2.6194\n",
      "--------------------------------------------------\n",
      "Epoch 2/10\n",
      "Training...\n"
     ]
    },
    {
     "data": {
      "application/vnd.jupyter.widget-view+json": {
       "model_id": "9120a4008a4141a08be85ce420fdbec1",
       "version_major": 2,
       "version_minor": 0
      },
      "text/plain": [
       "  0%|          | 0/3780 [00:00<?, ?it/s]"
      ]
     },
     "metadata": {},
     "output_type": "display_data"
    },
    {
     "name": "stdout",
     "output_type": "stream",
     "text": [
      "Validating...\n",
      "Train Loss: 2.3989\n",
      "Test Loss: 2.3207\n",
      "--------------------------------------------------\n",
      "Epoch 3/10\n",
      "Training...\n"
     ]
    },
    {
     "data": {
      "application/vnd.jupyter.widget-view+json": {
       "model_id": "f0c34b0749734c33ad086831fe9fb0fa",
       "version_major": 2,
       "version_minor": 0
      },
      "text/plain": [
       "  0%|          | 0/3780 [00:00<?, ?it/s]"
      ]
     },
     "metadata": {},
     "output_type": "display_data"
    },
    {
     "name": "stdout",
     "output_type": "stream",
     "text": [
      "Validating...\n",
      "Train Loss: 2.0726\n",
      "Test Loss: 2.1298\n",
      "--------------------------------------------------\n",
      "Epoch 4/10\n",
      "Training...\n"
     ]
    },
    {
     "data": {
      "application/vnd.jupyter.widget-view+json": {
       "model_id": "070845e6ce544077af9a707b097b4b99",
       "version_major": 2,
       "version_minor": 0
      },
      "text/plain": [
       "  0%|          | 0/3780 [00:00<?, ?it/s]"
      ]
     },
     "metadata": {},
     "output_type": "display_data"
    },
    {
     "name": "stdout",
     "output_type": "stream",
     "text": [
      "Validating...\n",
      "Train Loss: 1.8120\n",
      "Test Loss: 2.0089\n",
      "--------------------------------------------------\n",
      "Epoch 5/10\n",
      "Training...\n"
     ]
    },
    {
     "data": {
      "application/vnd.jupyter.widget-view+json": {
       "model_id": "cdfcae12cb244e62a21c222ad55b6cb2",
       "version_major": 2,
       "version_minor": 0
      },
      "text/plain": [
       "  0%|          | 0/3780 [00:00<?, ?it/s]"
      ]
     },
     "metadata": {},
     "output_type": "display_data"
    },
    {
     "name": "stdout",
     "output_type": "stream",
     "text": [
      "Validating...\n",
      "Train Loss: 1.6159\n",
      "Test Loss: 1.9421\n",
      "--------------------------------------------------\n",
      "Epoch 6/10\n",
      "Training...\n"
     ]
    },
    {
     "data": {
      "application/vnd.jupyter.widget-view+json": {
       "model_id": "c595cad6d9874ff9a20a90ca9a2ac5f3",
       "version_major": 2,
       "version_minor": 0
      },
      "text/plain": [
       "  0%|          | 0/3780 [00:00<?, ?it/s]"
      ]
     },
     "metadata": {},
     "output_type": "display_data"
    },
    {
     "name": "stdout",
     "output_type": "stream",
     "text": [
      "Validating...\n",
      "Train Loss: 1.4783\n",
      "Test Loss: 1.9151\n",
      "--------------------------------------------------\n",
      "Epoch 7/10\n",
      "Training...\n"
     ]
    },
    {
     "data": {
      "application/vnd.jupyter.widget-view+json": {
       "model_id": "02ed7f359c6f4484a8a3118c670e5b4a",
       "version_major": 2,
       "version_minor": 0
      },
      "text/plain": [
       "  0%|          | 0/3780 [00:00<?, ?it/s]"
      ]
     },
     "metadata": {},
     "output_type": "display_data"
    },
    {
     "name": "stdout",
     "output_type": "stream",
     "text": [
      "Validating...\n",
      "Train Loss: 1.3797\n",
      "Test Loss: 1.9105\n",
      "--------------------------------------------------\n",
      "Epoch 8/10\n",
      "Training...\n"
     ]
    },
    {
     "data": {
      "application/vnd.jupyter.widget-view+json": {
       "model_id": "2f9b2a635dd14972981947849dbdf303",
       "version_major": 2,
       "version_minor": 0
      },
      "text/plain": [
       "  0%|          | 0/3780 [00:00<?, ?it/s]"
      ]
     },
     "metadata": {},
     "output_type": "display_data"
    },
    {
     "name": "stdout",
     "output_type": "stream",
     "text": [
      "Validating...\n",
      "Train Loss: 1.3084\n",
      "Test Loss: 1.9211\n",
      "--------------------------------------------------\n",
      "Epoch 9/10\n",
      "Training...\n"
     ]
    },
    {
     "data": {
      "application/vnd.jupyter.widget-view+json": {
       "model_id": "506e4de6e0584bd4b929853aafbde242",
       "version_major": 2,
       "version_minor": 0
      },
      "text/plain": [
       "  0%|          | 0/3780 [00:00<?, ?it/s]"
      ]
     },
     "metadata": {},
     "output_type": "display_data"
    },
    {
     "name": "stdout",
     "output_type": "stream",
     "text": [
      "Validating...\n",
      "Train Loss: 1.2549\n",
      "Test Loss: 1.9392\n",
      "--------------------------------------------------\n",
      "Epoch 10/10\n",
      "Training...\n"
     ]
    },
    {
     "data": {
      "application/vnd.jupyter.widget-view+json": {
       "model_id": "f428c3a9eb5448928edc1ae6c1878dee",
       "version_major": 2,
       "version_minor": 0
      },
      "text/plain": [
       "  0%|          | 0/3780 [00:00<?, ?it/s]"
      ]
     },
     "metadata": {},
     "output_type": "display_data"
    },
    {
     "name": "stdout",
     "output_type": "stream",
     "text": [
      "Validating...\n",
      "Train Loss: 1.2129\n",
      "Test Loss: 1.9593\n",
      "--------------------------------------------------\n"
     ]
    }
   ],
   "source": [
    "# Training loop\n",
    "train_losses = []\n",
    "test_losses = []\n",
    "\n",
    "# loop through epochs\n",
    "for epoch in range(EPOCHS):\n",
    "    # set the model to training mode\n",
    "    model.train()\n",
    "    train_loss = 0\n",
    "    # loop through batch\n",
    "    print(f\"Epoch {epoch+1}/{EPOCHS}\")\n",
    "    print(\"Training...\")\n",
    "    for user_ids, song_ids, interactions, confidence in tqdm(train_loader):\n",
    "        # get data\n",
    "        user_ids = user_ids.to(device)\n",
    "        song_ids = song_ids.to(device)\n",
    "        interactions = interactions.to(device)\n",
    "        confidence = confidence.to(device)\n",
    "\n",
    "        # Forward pass\n",
    "        pred = model(user_ids, song_ids)\n",
    "\n",
    "        # Compute loss\n",
    "        loss = loss_fn(pred, interactions, confidence)\n",
    "        # accumulate the loss\n",
    "        train_loss += loss.item()\n",
    "        # we don't want to accumulate regularization loss for printing\n",
    "        if REG_LAMBDA > 0:\n",
    "            l2_reg = REG_LAMBDA * (\n",
    "                torch.norm(model.user_factors.weight) ** 2\n",
    "                + torch.norm(model.song_factors.weight) ** 2\n",
    "                + torch.norm(model.user_bias.weight) ** 2\n",
    "                + torch.norm(model.song_bias.weight) ** 2\n",
    "            )\n",
    "            loss += l2_reg\n",
    "\n",
    "        # backpropagation\n",
    "        optimizer.zero_grad()\n",
    "        loss.backward()\n",
    "        optimizer.step()\n",
    "\n",
    "    # Validation mode\n",
    "    model.eval()\n",
    "    test_loss = 0\n",
    "    print(\"Validating...\")\n",
    "    with torch.no_grad():\n",
    "        for user_ids, song_ids, interactions, confidence in test_loader:\n",
    "            # getting data\n",
    "            user_ids = user_ids.to(device)\n",
    "            song_ids = song_ids.to(device)\n",
    "            interactions = interactions.to(device)\n",
    "            confidence = confidence.to(device)\n",
    "\n",
    "            # Forward pass\n",
    "            pred = model(user_ids, song_ids)\n",
    "            # loss\n",
    "            test_loss += loss_fn(pred, interactions, confidence).item()\n",
    "\n",
    "    # save losses\n",
    "    train_losses.append(train_loss / len(train_loader))\n",
    "    test_losses.append(test_loss / len(test_loader))\n",
    "\n",
    "    print(f\"Train Loss: {train_losses[-1]:.4f}\")\n",
    "    print(f\"Test Loss: {test_losses[-1]:.4f}\")\n",
    "    print(\"-\" * 50)\n"
   ]
  },
  {
   "cell_type": "code",
   "execution_count": 21,
   "metadata": {},
   "outputs": [
    {
     "data": {
      "image/png": "[encoded data removed]",
      "text/plain": [
       "<Figure size 1000x500 with 1 Axes>"
      ]
     },
     "metadata": {},
     "output_type": "display_data"
    }
   ],
   "source": [
    "# Plot results\n",
    "plt.figure(figsize=(10, 5))\n",
    "plt.plot(train_losses, label=\"Train Loss\")\n",
    "plt.plot(test_losses, label=\"Test Loss\")\n",
    "plt.xlabel(\"Epoch\")\n",
    "plt.ylabel(\"Loss\")\n",
    "plt.title(\"Training and Validation Loss\")\n",
    "plt.legend()\n",
    "plt.show()"
   ]
  },
  {
   "cell_type": "markdown",
   "metadata": {},
   "source": [
    "## Making predictions"
   ]
  },
  {
   "cell_type": "code",
   "execution_count": 22,
   "metadata": {},
   "outputs": [
    {
     "data": {
      "text/plain": [
       "['05b9035fe02ebdf5535ae9ec07de1e935ffa43df',\n",
       " '4b9b549e84fb29bfbcf7ab34f01c0bcd1bbf93a5',\n",
       " '6530c4fc41b9110de5d39fe0355fa103c66385f0']"
      ]
     },
     "execution_count": 22,
     "metadata": {},
     "output_type": "execute_result"
    }
   ],
   "source": [
    "sample_user_ids = [\n",
    "    \"05b9035fe02ebdf5535ae9ec07de1e935ffa43df\",\n",
    "    \"4b9b549e84fb29bfbcf7ab34f01c0bcd1bbf93a5\",\n",
    "    \"6530c4fc41b9110de5d39fe0355fa103c66385f0\",\n",
    "]\n",
    "sample_user_ids"
   ]
  },
  {
   "cell_type": "code",
   "execution_count": 23,
   "metadata": {},
   "outputs": [
    {
     "data": {
      "text/plain": [
       "array(['SOMWTWK12AB01860CD', 'SOBKRVG12A8C133269', 'SOXFXDH12A8C13326E',\n",
       "       'SOAYETG12A67ADA751', 'SOUFNSM12A58A77715'], dtype=object)"
      ]
     },
     "execution_count": 23,
     "metadata": {},
     "output_type": "execute_result"
    }
   ],
   "source": [
    "# sample song ids\n",
    "sample_song_ids = df[df[\"user_id\"].isin(sample_user_ids)][\"song_id\"].unique()[:5]\n",
    "sample_song_ids"
   ]
  },
  {
   "cell_type": "code",
   "execution_count": 24,
   "metadata": {},
   "outputs": [],
   "source": [
    "def predict(model, user_ids, device):\n",
    "    \"\"\"\n",
    "    Make predictions for specific user-song pairs\n",
    "\n",
    "    Args:\n",
    "        model: trained MatrixFactorization model\n",
    "        user_ids: array-like of user_ids (original string IDs)\n",
    "        device: torch device\n",
    "    \"\"\"\n",
    "    # Convert IDs to indices\n",
    "    user_indices = torch.tensor(\n",
    "        [user_to_idx.get(uid, -1) for uid in user_ids], device=device\n",
    "    )\n",
    "\n",
    "    # Get predictions\n",
    "    with torch.no_grad():\n",
    "        predictions = model.predict_all_songs(\n",
    "            user_indices\n",
    "        )  # Shape: (user_ids, n_songs)\n",
    "        predictions = torch.sigmoid(predictions)\n",
    "\n",
    "    return predictions.cpu().numpy()"
   ]
  },
  {
   "cell_type": "code",
   "execution_count": 25,
   "metadata": {},
   "outputs": [
    {
     "data": {
      "text/plain": [
       "array([[0.9860952 , 0.98690146, 0.97035867, ..., 0.5272796 , 0.44552663,\n",
       "        0.24358411],\n",
       "       [0.46770197, 0.7280549 , 0.768731  , ..., 0.81601435, 0.690786  ,\n",
       "        0.39057055],\n",
       "       [0.8232218 , 0.6828612 , 0.92087764, ..., 0.74796975, 0.6760552 ,\n",
       "        0.3967087 ]], dtype=float32)"
      ]
     },
     "execution_count": 25,
     "metadata": {},
     "output_type": "execute_result"
    }
   ],
   "source": [
    "# making predictions\n",
    "predict(model, sample_user_ids, device)"
   ]
  },
  {
   "cell_type": "code",
   "execution_count": 26,
   "metadata": {},
   "outputs": [],
   "source": [
    "def get_top_k_recommendations(model, user_ids, k=10, device=\"cpu\"):\n",
    "    \"\"\"\n",
    "    Get top-k song recommendations for given users\n",
    "    \"\"\"\n",
    "    # convert to list\n",
    "    if isinstance(user_ids, str):\n",
    "        user_ids = [user_ids]\n",
    "\n",
    "    # Get predictions\n",
    "    probas = predict(model, user_ids, device)  # This returns numpy array\n",
    "    probas = torch.from_numpy(probas)  # Convert to tensor for torch operations\n",
    "\n",
    "    # mask for already listened songs\n",
    "    for i, user_id in enumerate(user_ids):\n",
    "        user_songs = df[df[\"user_id\"] == user_id][\"song_idx\"].values\n",
    "        probas[i, user_songs] = float(\"-inf\")\n",
    "\n",
    "    # Get top-k indices and probabilities\n",
    "    top_k_probas, top_k_indices = torch.topk(probas, k, dim=1)\n",
    "\n",
    "    # Create reverse mapping for song indices to IDs\n",
    "    idx_to_song = {idx: sid for sid, idx in song_to_idx.items()}\n",
    "\n",
    "    # a lookup dictionary for song metadata\n",
    "    song_metadata = (\n",
    "        df[[\"song_id\", \"artist\", \"title\"]]\n",
    "        .drop_duplicates(\"song_id\")\n",
    "        .set_index(\"song_id\")\n",
    "    )\n",
    "\n",
    "    # Build recommendations dictionary\n",
    "    recommendations = {}\n",
    "    for i, user_id in enumerate(user_ids):\n",
    "        user_recs = []\n",
    "        for idx, prob in zip(top_k_indices[i], top_k_probas[i]):\n",
    "            song_id = idx_to_song[idx.item()]\n",
    "            artist = song_metadata.loc[song_id, \"artist\"]\n",
    "            title = song_metadata.loc[song_id, \"title\"]\n",
    "            song_info = f\"{artist} - {title}\"\n",
    "            rounded_prob = round(float(prob), 2)\n",
    "            user_recs.append((song_info, rounded_prob))\n",
    "        recommendations[user_id] = user_recs\n",
    "\n",
    "    return recommendations"
   ]
  },
  {
   "cell_type": "code",
   "execution_count": 27,
   "metadata": {},
   "outputs": [
    {
     "data": {
      "text/plain": [
       "{'05b9035fe02ebdf5535ae9ec07de1e935ffa43df': [('Metric - Gold Guns Girls',\n",
       "   0.98),\n",
       "  ('Vampire Weekend - Horchata', 0.98),\n",
       "  ('Vampire Weekend - M79 (Album)', 0.98)],\n",
       " '4b9b549e84fb29bfbcf7ab34f01c0bcd1bbf93a5': [('Rise Against - Savior', 0.99),\n",
       "  ('Weezer - Buddy Holly', 0.98),\n",
       "  ('Pavement - Mercy:The Laundromat', 0.96)],\n",
       " '6530c4fc41b9110de5d39fe0355fa103c66385f0': [('Jack Johnson - Bubble Toes',\n",
       "   1.0),\n",
       "  ('Jack Johnson - Do You Remember', 0.99),\n",
       "  (\"Kid Cudi Vs Crookers - Day 'N' Nite\", 0.99)]}"
      ]
     },
     "execution_count": 27,
     "metadata": {},
     "output_type": "execute_result"
    }
   ],
   "source": [
    "recommendations = get_top_k_recommendations(model, sample_user_ids, k=3, device=device)\n",
    "recommendations"
   ]
  },
  {
   "cell_type": "markdown",
   "metadata": {},
   "source": [
    "Here we can evaluate some recommendation for a hardcore fan of an artist"
   ]
  },
  {
   "cell_type": "code",
   "execution_count": 28,
   "metadata": {},
   "outputs": [
    {
     "data": {
      "text/html": [
       "<div>\n",
       "<style scoped>\n",
       "    .dataframe tbody tr th:only-of-type {\n",
       "        vertical-align: middle;\n",
       "    }\n",
       "\n",
       "    .dataframe tbody tr th {\n",
       "        vertical-align: top;\n",
       "    }\n",
       "\n",
       "    .dataframe thead th {\n",
       "        text-align: right;\n",
       "    }\n",
       "</style>\n",
       "<table border=\"1\" class=\"dataframe\">\n",
       "  <thead>\n",
       "    <tr style=\"text-align: right;\">\n",
       "      <th></th>\n",
       "      <th>total_songs</th>\n",
       "      <th>artist_songs</th>\n",
       "      <th>ratio</th>\n",
       "    </tr>\n",
       "    <tr>\n",
       "      <th>user_id</th>\n",
       "      <th></th>\n",
       "      <th></th>\n",
       "      <th></th>\n",
       "    </tr>\n",
       "  </thead>\n",
       "  <tbody>\n",
       "    <tr>\n",
       "      <th>0003798d61a8010dbfd8010180b7107cbbb8a649</th>\n",
       "      <td>19</td>\n",
       "      <td>1.0</td>\n",
       "      <td>0.052632</td>\n",
       "    </tr>\n",
       "    <tr>\n",
       "      <th>00061a993bb3add5cc37b2ea28a9552337f2fe4d</th>\n",
       "      <td>16</td>\n",
       "      <td>0.0</td>\n",
       "      <td>0.000000</td>\n",
       "    </tr>\n",
       "    <tr>\n",
       "      <th>000a43eb37163bb2f93020e107a2d543f27257b7</th>\n",
       "      <td>11</td>\n",
       "      <td>0.0</td>\n",
       "      <td>0.000000</td>\n",
       "    </tr>\n",
       "    <tr>\n",
       "      <th>000ae9c80733348ff64cd3716a27477b94578d9d</th>\n",
       "      <td>10</td>\n",
       "      <td>0.0</td>\n",
       "      <td>0.000000</td>\n",
       "    </tr>\n",
       "    <tr>\n",
       "      <th>000dd7137b511a0c6e45880de551c6a7019ee4c3</th>\n",
       "      <td>10</td>\n",
       "      <td>0.0</td>\n",
       "      <td>0.000000</td>\n",
       "    </tr>\n",
       "    <tr>\n",
       "      <th>...</th>\n",
       "      <td>...</td>\n",
       "      <td>...</td>\n",
       "      <td>...</td>\n",
       "    </tr>\n",
       "    <tr>\n",
       "      <th>fff3b1ee05d9750e8868de9470ea46fcb0776f66</th>\n",
       "      <td>10</td>\n",
       "      <td>0.0</td>\n",
       "      <td>0.000000</td>\n",
       "    </tr>\n",
       "    <tr>\n",
       "      <th>fff4438f5d96c5ecd66678f2a22fd7bbed59625f</th>\n",
       "      <td>11</td>\n",
       "      <td>0.0</td>\n",
       "      <td>0.000000</td>\n",
       "    </tr>\n",
       "    <tr>\n",
       "      <th>fff5304527f3c658ce48cd7afa5b76b7b4172852</th>\n",
       "      <td>16</td>\n",
       "      <td>1.0</td>\n",
       "      <td>0.062500</td>\n",
       "    </tr>\n",
       "    <tr>\n",
       "      <th>fffd0a1b26c37a55574d844277d176991d054f99</th>\n",
       "      <td>17</td>\n",
       "      <td>0.0</td>\n",
       "      <td>0.000000</td>\n",
       "    </tr>\n",
       "    <tr>\n",
       "      <th>fffe5b73c50c72ca9c54947efac1fcacf59c4a17</th>\n",
       "      <td>13</td>\n",
       "      <td>0.0</td>\n",
       "      <td>0.000000</td>\n",
       "    </tr>\n",
       "  </tbody>\n",
       "</table>\n",
       "<p>11212 rows × 3 columns</p>\n",
       "</div>"
      ],
      "text/plain": [
       "                                          total_songs  artist_songs     ratio\n",
       "user_id                                                                      \n",
       "0003798d61a8010dbfd8010180b7107cbbb8a649           19           1.0  0.052632\n",
       "00061a993bb3add5cc37b2ea28a9552337f2fe4d           16           0.0  0.000000\n",
       "000a43eb37163bb2f93020e107a2d543f27257b7           11           0.0  0.000000\n",
       "000ae9c80733348ff64cd3716a27477b94578d9d           10           0.0  0.000000\n",
       "000dd7137b511a0c6e45880de551c6a7019ee4c3           10           0.0  0.000000\n",
       "...                                               ...           ...       ...\n",
       "fff3b1ee05d9750e8868de9470ea46fcb0776f66           10           0.0  0.000000\n",
       "fff4438f5d96c5ecd66678f2a22fd7bbed59625f           11           0.0  0.000000\n",
       "fff5304527f3c658ce48cd7afa5b76b7b4172852           16           1.0  0.062500\n",
       "fffd0a1b26c37a55574d844277d176991d054f99           17           0.0  0.000000\n",
       "fffe5b73c50c72ca9c54947efac1fcacf59c4a17           13           0.0  0.000000\n",
       "\n",
       "[11212 rows x 3 columns]"
      ]
     },
     "execution_count": 28,
     "metadata": {},
     "output_type": "execute_result"
    }
   ],
   "source": [
    "# get specific artist data\n",
    "artist_df = df[(df.artist == \"Eminem\") & (df.interaction == 1)]\n",
    "\n",
    "# Get users who listen to that artist and their total song count\n",
    "user_total_songs = df[df.interaction == 1].groupby(\"user_id\").size()\n",
    "user_artist_songs = artist_df.groupby(\"user_id\").size()\n",
    "\n",
    "# Calculate ratio of artist songs to total songs per user\n",
    "artist_ratio = pd.DataFrame(\n",
    "    {\"total_songs\": user_total_songs, \"artist_songs\": user_artist_songs}\n",
    ").fillna(0)\n",
    "artist_ratio[\"ratio\"] = artist_ratio[\"artist_songs\"] / artist_ratio[\"total_songs\"]\n",
    "artist_ratio"
   ]
  },
  {
   "cell_type": "code",
   "execution_count": 29,
   "metadata": {},
   "outputs": [
    {
     "name": "stdout",
     "output_type": "stream",
     "text": [
      "Top Eminem fans (by ratio of Eminem songs to total songs):\n",
      "                                          total_songs  artist_songs     ratio\n",
      "user_id                                                                      \n",
      "1abe450971e4ea9fea6d1c48c36732bbfb2895dc           10           7.0  0.700000\n",
      "73ad7d3f143b0d7ff5f7e0e1f0f07913e9943755           11           6.0  0.545455\n",
      "4718c9a2a51067ab538fb460beefa0459002651c           10           5.0  0.500000\n",
      "7ae393fd4e7e048fedfe228ca209ae44da21a3c6           10           5.0  0.500000\n",
      "6c6083f4a8b1e0f6ef264203f5583c36628b3b94           10           5.0  0.500000\n"
     ]
    }
   ],
   "source": [
    "# Find users with high artist ratio and a minimum number of artist songs\n",
    "dedicated_fans = artist_ratio[\n",
    "    (artist_ratio[\"ratio\"] > 0.3) & (artist_ratio[\"artist_songs\"] > 3)\n",
    "].sort_values(\"ratio\", ascending=False)\n",
    "print(\"Top Eminem fans (by ratio of Eminem songs to total songs):\")\n",
    "print(dedicated_fans.head())\n",
    "\n",
    "# extract top user id\n",
    "user_id = dedicated_fans.index[0]\n"
   ]
  },
  {
   "cell_type": "code",
   "execution_count": 30,
   "metadata": {},
   "outputs": [
    {
     "data": {
      "text/plain": [
       "{'1abe450971e4ea9fea6d1c48c36732bbfb2895dc': [('My Chemical Romance - Helena (So Long & Goodnight) (Album Version)',\n",
       "   0.99),\n",
       "  ('Eminem - Evil Deeds', 0.99),\n",
       "  ('Eminem / Dr. Dre - Say What You Say', 0.99),\n",
       "  ('Blink-182 - Always', 0.98),\n",
       "  ('Eminem - Without Me', 0.98)]}"
      ]
     },
     "execution_count": 30,
     "metadata": {},
     "output_type": "execute_result"
    }
   ],
   "source": [
    "# get recommendations\n",
    "recommendations = get_top_k_recommendations(model, [user_id], k=5, device=device)\n",
    "recommendations\n"
   ]
  },
  {
   "cell_type": "code",
   "execution_count": null,
   "metadata": {},
   "outputs": [],
   "source": []
  }
 ],
 "metadata": {
  "kernelspec": {
   "display_name": ".venv",
   "language": "python",
   "name": "python3"
  },
  "language_info": {
   "codemirror_mode": {
    "name": "ipython",
    "version": 3
   },
   "file_extension": ".py",
   "mimetype": "text/x-python",
   "name": "python",
   "nbconvert_exporter": "python",
   "pygments_lexer": "ipython3",
   "version": "3.11.10"
  }
 },
 "nbformat": 4,
 "nbformat_minor": 2
}
