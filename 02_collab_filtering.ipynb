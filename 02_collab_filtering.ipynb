{
    "cells": [
        {
            "cell_type": "markdown",
            "metadata": {},
            "source": [
                "# Collaborative Filtering"
            ]
        },
        {
            "cell_type": "code",
            "execution_count": 1,
            "metadata": {},
            "outputs": [],
            "source": [
                "# import libraries\n",
                "import pandas as pd\n",
                "import matplotlib.pyplot as plt\n",
                "import seaborn as sns\n",
                "import numpy as np\n",
                "from scipy.sparse import csr_matrix\n",
                "from sklearn.metrics.pairwise import cosine_similarity\n",
                "from sklearn.model_selection import train_test_split\n",
                "from tqdm.auto import tqdm\n",
                "\n",
                "sns.set()"
            ]
        },
        {
            "cell_type": "markdown",
            "metadata": {},
            "source": [
                "## Loading Data"
            ]
        },
        {
            "cell_type": "code",
            "execution_count": 2,
            "metadata": {},
            "outputs": [
                {
                    "data": {
                        "text/html": [
                            "<div>\n",
                            "<style scoped>\n",
                            "    .dataframe tbody tr th:only-of-type {\n",
                            "        vertical-align: middle;\n",
                            "    }\n",
                            "\n",
                            "    .dataframe tbody tr th {\n",
                            "        vertical-align: top;\n",
                            "    }\n",
                            "\n",
                            "    .dataframe thead th {\n",
                            "        text-align: right;\n",
                            "    }\n",
                            "</style>\n",
                            "<table border=\"1\" class=\"dataframe\">\n",
                            "  <thead>\n",
                            "    <tr style=\"text-align: right;\">\n",
                            "      <th></th>\n",
                            "      <th>user_id</th>\n",
                            "      <th>song_id</th>\n",
                            "      <th>freq</th>\n",
                            "      <th>artist</th>\n",
                            "      <th>title</th>\n",
                            "    </tr>\n",
                            "  </thead>\n",
                            "  <tbody>\n",
                            "    <tr>\n",
                            "      <th>0</th>\n",
                            "      <td>05b9035fe02ebdf5535ae9ec07de1e935ffa43df</td>\n",
                            "      <td>SOMWTWK12AB01860CD</td>\n",
                            "      <td>2</td>\n",
                            "      <td>Vampire Weekend</td>\n",
                            "      <td>White Sky</td>\n",
                            "    </tr>\n",
                            "    <tr>\n",
                            "      <th>1</th>\n",
                            "      <td>05b9035fe02ebdf5535ae9ec07de1e935ffa43df</td>\n",
                            "      <td>SOBKRVG12A8C133269</td>\n",
                            "      <td>1</td>\n",
                            "      <td>Vampire Weekend</td>\n",
                            "      <td>I Stand Corrected (Album)</td>\n",
                            "    </tr>\n",
                            "    <tr>\n",
                            "      <th>2</th>\n",
                            "      <td>05b9035fe02ebdf5535ae9ec07de1e935ffa43df</td>\n",
                            "      <td>SOXFXDH12A8C13326E</td>\n",
                            "      <td>1</td>\n",
                            "      <td>Vampire Weekend</td>\n",
                            "      <td>The Kids Don\u0019t Stand A Chance (Album)</td>\n",
                            "    </tr>\n",
                            "    <tr>\n",
                            "      <th>3</th>\n",
                            "      <td>05b9035fe02ebdf5535ae9ec07de1e935ffa43df</td>\n",
                            "      <td>SOAYETG12A67ADA751</td>\n",
                            "      <td>1</td>\n",
                            "      <td>MIKA</td>\n",
                            "      <td>Grace Kelly</td>\n",
                            "    </tr>\n",
                            "    <tr>\n",
                            "      <th>4</th>\n",
                            "      <td>05b9035fe02ebdf5535ae9ec07de1e935ffa43df</td>\n",
                            "      <td>SOUFNSM12A58A77715</td>\n",
                            "      <td>1</td>\n",
                            "      <td>Vampire Weekend</td>\n",
                            "      <td>Walcott (Album)</td>\n",
                            "    </tr>\n",
                            "  </tbody>\n",
                            "</table>\n",
                            "</div>"
                        ],
                        "text/plain": [
                            "                                    user_id             song_id  freq  \\\n",
                            "0  05b9035fe02ebdf5535ae9ec07de1e935ffa43df  SOMWTWK12AB01860CD     2   \n",
                            "1  05b9035fe02ebdf5535ae9ec07de1e935ffa43df  SOBKRVG12A8C133269     1   \n",
                            "2  05b9035fe02ebdf5535ae9ec07de1e935ffa43df  SOXFXDH12A8C13326E     1   \n",
                            "3  05b9035fe02ebdf5535ae9ec07de1e935ffa43df  SOAYETG12A67ADA751     1   \n",
                            "4  05b9035fe02ebdf5535ae9ec07de1e935ffa43df  SOUFNSM12A58A77715     1   \n",
                            "\n",
                            "            artist                                  title  \n",
                            "0  Vampire Weekend                              White Sky  \n",
                            "1  Vampire Weekend              I Stand Corrected (Album)  \n",
                            "2  Vampire Weekend  The Kids Don\u0019t Stand A Chance (Album)  \n",
                            "3             MIKA                            Grace Kelly  \n",
                            "4  Vampire Weekend                        Walcott (Album)  "
                        ]
                    },
                    "execution_count": 2,
                    "metadata": {},
                    "output_type": "execute_result"
                }
            ],
            "source": [
                "# loading data\n",
                "df = pd.read_csv(\"./data/filtered_data.csv\")\n",
                "df.head()"
            ]
        },
        {
            "cell_type": "markdown",
            "metadata": {},
            "source": [
                "## Processing Data"
            ]
        },
        {
            "cell_type": "code",
            "execution_count": 3,
            "metadata": {},
            "outputs": [
                {
                    "name": "stdout",
                    "output_type": "stream",
                    "text": [
                        "Number of unique users: 11212\n",
                        "Number of unique songs: 2000\n"
                    ]
                }
            ],
            "source": [
                "# let's see the number of unique users and songs now\n",
                "print(f\"Number of unique users: {df['user_id'].nunique()}\")\n",
                "print(f\"Number of unique songs: {df['song_id'].nunique()}\")\n"
            ]
        },
        {
            "cell_type": "code",
            "execution_count": 4,
            "metadata": {},
            "outputs": [
                {
                    "data": {
                        "text/plain": [
                            "count    11212.000000\n",
                            "mean        13.482340\n",
                            "std          3.937627\n",
                            "min         10.000000\n",
                            "25%         11.000000\n",
                            "50%         12.000000\n",
                            "75%         15.000000\n",
                            "max         44.000000\n",
                            "Name: song_id, dtype: float64"
                        ]
                    },
                    "execution_count": 4,
                    "metadata": {},
                    "output_type": "execute_result"
                }
            ],
            "source": [
                "df.groupby(\"user_id\")[\"song_id\"].nunique().describe()"
            ]
        },
        {
            "cell_type": "code",
            "execution_count": 5,
            "metadata": {},
            "outputs": [
                {
                    "data": {
                        "image/png": "[encoded data removed]",
                        "text/plain": [
                            "<Figure size 1000x600 with 1 Axes>"
                        ]
                    },
                    "metadata": {},
                    "output_type": "display_data"
                }
            ],
            "source": [
                "# there is a bias for each user, some users listen way more than others\n",
                "# let's plot the average nb of listens for each user\n",
                "user_means = df.groupby(\"user_id\")[\"freq\"].mean()\n",
                "plt.figure(figsize=(10, 6))\n",
                "sns.histplot(user_means, kde=True)\n",
                "plt.title(\"Average Streams for Each User\")\n",
                "plt.xlabel(\"Average Streams\")\n",
                "plt.ylabel(\"Number of Users\")\n",
                "plt.show()\n"
            ]
        },
        {
            "cell_type": "markdown",
            "metadata": {},
            "source": [
                "We can see the data is extremely right skewed. We will therefore work with deviations $$d(i,j)=s(i,j) - \\hat{s_i}$$\n",
                "where $s(i,j)$ is the number of listens for user $i$ and song $j$ and $\\hat{s_i}$ is the mean number of listens for user $i$. That's essentially removing the user bias.\n"
            ]
        },
        {
            "cell_type": "code",
            "execution_count": 6,
            "metadata": {},
            "outputs": [],
            "source": [
                "# Split the data into train and test sets\n",
                "train_df, test_df = train_test_split(df, test_size=0.2)"
            ]
        },
        {
            "cell_type": "code",
            "execution_count": 7,
            "metadata": {},
            "outputs": [],
            "source": [
                "# Calculate user means from training data only\n",
                "user_means = train_df.groupby(\"user_id\")[\"freq\"].mean()\n",
                "\n",
                "# computing the deviations\n",
                "train_df[\"freq_dev\"] = train_df[\"freq\"] - train_df[\"user_id\"].map(user_means)"
            ]
        },
        {
            "cell_type": "code",
            "execution_count": 8,
            "metadata": {},
            "outputs": [],
            "source": [
                "# Create mappings using full dataset to maintain consistent indices\n",
                "user_ids = df[\"user_id\"].unique()\n",
                "song_ids = df[\"song_id\"].unique()\n",
                "\n",
                "user_id_map = {id_: i for i, id_ in enumerate(user_ids)}\n",
                "song_id_map = {id_: i for i, id_ in enumerate(song_ids)}\n",
                "\n",
                "user_id_map_inv = {v: k for k, v in user_id_map.items()}\n",
                "song_id_map_inv = {v: k for k, v in song_id_map.items()}"
            ]
        },
        {
            "cell_type": "code",
            "execution_count": 9,
            "metadata": {},
            "outputs": [
                {
                    "data": {
                        "text/plain": [
                            "array([[ 0.8, -0.2, -0.2, ...,  0. ,  0. ,  0. ]])"
                        ]
                    },
                    "execution_count": 9,
                    "metadata": {},
                    "output_type": "execute_result"
                }
            ],
            "source": [
                "# Create train sparse matrices\n",
                "train_rows = [user_id_map[user_id] for user_id in train_df[\"user_id\"]]\n",
                "train_cols = [song_id_map[song_id] for song_id in train_df[\"song_id\"]]\n",
                "train_data_dev = train_df[\"freq_dev\"].values\n",
                "\n",
                "train_user_item_sparse_dev = csr_matrix(\n",
                "    (train_data_dev, (train_rows, train_cols)), shape=(len(user_ids), len(song_ids))\n",
                ")\n",
                "train_user_item_sparse_dev[0].toarray()"
            ]
        },
        {
            "cell_type": "code",
            "execution_count": 10,
            "metadata": {},
            "outputs": [
                {
                    "data": {
                        "text/plain": [
                            "array([[1, 1, 1, ..., 0, 0, 0]])"
                        ]
                    },
                    "execution_count": 10,
                    "metadata": {},
                    "output_type": "execute_result"
                }
            ],
            "source": [
                "# we create an interaction mask to identify where actual interactions occurred (1s) vs missing data (0s)\n",
                "train_data = train_df[\"freq\"].values\n",
                "train_interaction_mask = csr_matrix(\n",
                "    (np.ones_like(train_data), (train_rows, train_cols)),\n",
                "    shape=(len(user_ids), len(song_ids)),\n",
                ")\n",
                "train_interaction_mask[0].toarray()"
            ]
        },
        {
            "cell_type": "markdown",
            "metadata": {},
            "source": [
                "Here we also created a `interaction_mask` matrix. \n",
                "\n",
                "This way, we can:\n",
                "- Use interaction_mask to identify where actual interactions occurred (1s) vs missing data (0s)\n",
                "- Use user_item_sparse_dev for our normalized frequencies\n",
                "- When needed, we can combine both matrices to distinguish between true zeros (check interaction_mask) and missing values\n",
                "\n"
            ]
        },
        {
            "cell_type": "code",
            "execution_count": 11,
            "metadata": {},
            "outputs": [],
            "source": [
                "# Create test sparse matrices for evaluation - we don't really need the deviations here\n",
                "test_rows = [user_id_map[user_id] for user_id in test_df[\"user_id\"]]\n",
                "test_cols = [song_id_map[song_id] for song_id in test_df[\"song_id\"]]\n",
                "test_data = test_df[\"freq\"].values\n",
                "\n",
                "test_user_item_sparse = csr_matrix(\n",
                "    (test_data, (test_rows, test_cols)), shape=(len(user_ids), len(song_ids))\n",
                ")\n",
                "\n",
                "test_interaction_mask = csr_matrix(\n",
                "    (np.ones_like(test_data), (test_rows, test_cols)),\n",
                "    shape=(len(user_ids), len(song_ids)),\n",
                ")"
            ]
        },
        {
            "cell_type": "markdown",
            "metadata": {},
            "source": [
                "## Logic on a single user\n"
            ]
        },
        {
            "cell_type": "code",
            "execution_count": 13,
            "metadata": {},
            "outputs": [],
            "source": [
                "# let's focus on the first user\n",
                "user_id = 1\n",
                "# minimum number of common items to consider a neighbor\n",
                "min_common = 3\n",
                "# number of neighbors to consider\n",
                "K = 10\n"
            ]
        },
        {
            "cell_type": "code",
            "execution_count": 14,
            "metadata": {},
            "outputs": [
                {
                    "data": {
                        "text/plain": [
                            "<Compressed Sparse Row sparse matrix of dtype 'int64'\n",
                            "\twith 3225 stored elements and shape (1, 11212)>"
                        ]
                    },
                    "execution_count": 14,
                    "metadata": {},
                    "output_type": "execute_result"
                }
            ],
            "source": [
                "# Compute number of common items for user with all users\n",
                "user_common_items = train_interaction_mask[user_id].dot(train_interaction_mask.T)\n",
                "user_common_items"
            ]
        },
        {
            "cell_type": "code",
            "execution_count": 15,
            "metadata": {},
            "outputs": [
                {
                    "data": {
                        "text/plain": [
                            "array([9, 4, 4, 4, 4, 4, 4, 4, 4, 4])"
                        ]
                    },
                    "execution_count": 15,
                    "metadata": {},
                    "output_type": "execute_result"
                }
            ],
            "source": [
                "# this would be the top number of common items for the first user in the batch\n",
                "user_common_items.toarray()[0][user_common_items.toarray()[0].argsort()[-10:][::-1]]\n"
            ]
        },
        {
            "cell_type": "code",
            "execution_count": 16,
            "metadata": {},
            "outputs": [
                {
                    "data": {
                        "text/plain": [
                            "array([10331,  4383,  3742,  3106,  2109, 10197,  9848,  9468,  9238,\n",
                            "        7733,  7414,  6495,  6250,  3686,  3585,  3573,  3228,  2907,\n",
                            "        2744,  2375,  2316,  1925,  1207,   894,   523,   378,   208,\n",
                            "       10369, 11198, 11081, 10909, 10801, 10550, 10449, 10436, 10267,\n",
                            "       10216,  9565,  8993,  8961,  8589,  8509,  8302,  8183,  8124,\n",
                            "        8105,  7997,  7752,  7388,  7286,  6909,  6791,  6690,  6658,\n",
                            "        6368,  6128,  5829,  4558,  4523,  3882,  3745,  3614,  2998,\n",
                            "        2888,  2712,  2613,  2606,  2328,  2223,  2211,  1605,  1187,\n",
                            "        1111,  1070,  1068,   883,   680,   244,   121], dtype=int32)"
                        ]
                    },
                    "execution_count": 16,
                    "metadata": {},
                    "output_type": "execute_result"
                }
            ],
            "source": [
                "# extract the users with enough common items and remove the user\n",
                "potential_neighbors = user_common_items.indices[user_common_items.data >= min_common]\n",
                "potential_neighbors = potential_neighbors[potential_neighbors != user_id]\n",
                "potential_neighbors\n"
            ]
        },
        {
            "cell_type": "code",
            "execution_count": 17,
            "metadata": {},
            "outputs": [],
            "source": [
                "# Get user vector\n",
                "user_vector = train_user_item_sparse_dev.getrow(user_id)\n",
                "user_mask = train_interaction_mask.getrow(user_id)"
            ]
        },
        {
            "cell_type": "code",
            "execution_count": 18,
            "metadata": {},
            "outputs": [],
            "source": [
                "# Dictionary to store similarities\n",
                "user_sims = {}\n",
                "\n",
                "# Compute similarities with potential neighbors\n",
                "for other_id in potential_neighbors:\n",
                "    other_vector = train_user_item_sparse_dev.getrow(other_id)\n",
                "    other_mask = train_interaction_mask.getrow(other_id)\n",
                "\n",
                "    # Get common items mask\n",
                "    common_mask = user_mask.multiply(other_mask)\n",
                "    common_indices = common_mask.indices\n",
                "\n",
                "    # Get vectors for common items\n",
                "    user_common = user_vector.multiply(common_mask)\n",
                "    other_common = other_vector.multiply(common_mask)\n",
                "\n",
                "    # Compute cosine similarity\n",
                "    similarity = cosine_similarity(user_common, other_common)[0, 0]\n",
                "    user_sims[other_id] = similarity\n"
            ]
        },
        {
            "cell_type": "code",
            "execution_count": 19,
            "metadata": {},
            "outputs": [
                {
                    "data": {
                        "text/plain": [
                            "[(np.int32(883), np.float64(0.9765241591476882)),\n",
                            " (np.int32(10331), np.float64(0.9045340337332909)),\n",
                            " (np.int32(2888), np.float64(0.9045340337332909)),\n",
                            " (np.int32(7733), np.float64(0.9045340337332908)),\n",
                            " (np.int32(3573), np.float64(0.9045340337332908)),\n",
                            " (np.int32(378), np.float64(0.9045340337332908)),\n",
                            " (np.int32(6909), np.float64(0.9045340337332908)),\n",
                            " (np.int32(6690), np.float64(0.9045340337332908)),\n",
                            " (np.int32(6658), np.float64(0.9045340337332908)),\n",
                            " (np.int32(121), np.float64(0.859360783428583))]"
                        ]
                    },
                    "execution_count": 19,
                    "metadata": {},
                    "output_type": "execute_result"
                }
            ],
            "source": [
                "# Keep top k similarities\n",
                "top_k_users = sorted(user_sims.items(), key=lambda x: x[1], reverse=True)[:K]\n",
                "top_k_users\n"
            ]
        },
        {
            "cell_type": "markdown",
            "metadata": {},
            "source": [
                "## Main Function"
            ]
        },
        {
            "cell_type": "code",
            "execution_count": 20,
            "metadata": {},
            "outputs": [],
            "source": [
                "def compute_user_similarities(interaction_mask, user_item_matrix, min_common=10, k=10):\n",
                "    n_users = user_item_matrix.shape[0]\n",
                "    similarities_dict = {}\n",
                "\n",
                "    # we process each user 1 by 1\n",
                "    for user_id in tqdm(range(n_users)):\n",
                "        # Get users with enough common items\n",
                "        user_common_items = interaction_mask[user_id].dot(interaction_mask.T)\n",
                "        # Get indices where common items >= min_common\n",
                "        potential_neighbors = user_common_items.indices[\n",
                "            user_common_items.data >= min_common\n",
                "        ]\n",
                "        potential_neighbors = potential_neighbors[potential_neighbors != user_id]\n",
                "\n",
                "        if len(potential_neighbors) == 0:\n",
                "            similarities_dict[user_id] = {}\n",
                "            continue\n",
                "\n",
                "        # Get user vector\n",
                "        user_vector = user_item_matrix.getrow(user_id)\n",
                "        user_mask = interaction_mask.getrow(user_id)\n",
                "\n",
                "        # dict to store similarities\n",
                "        user_sims = {}\n",
                "\n",
                "        # Compute similarities with neighbors\n",
                "        for other_id in potential_neighbors:\n",
                "            other_vector = user_item_matrix.getrow(other_id)\n",
                "            other_mask = interaction_mask.getrow(other_id)\n",
                "\n",
                "            # Get common items mask\n",
                "            common_mask = user_mask.multiply(other_mask)\n",
                "\n",
                "            # Get vectors for common items\n",
                "            user_common = user_vector.multiply(common_mask)\n",
                "            other_common = other_vector.multiply(common_mask)\n",
                "\n",
                "            # Use cosine_similarity on sparse matrices directly\n",
                "            similarity = cosine_similarity(user_common, other_common)[0, 0]\n",
                "\n",
                "            if similarity > 0:\n",
                "                user_sims[other_id] = similarity\n",
                "\n",
                "        # Keep top k similarities\n",
                "        if user_sims:\n",
                "            top_k_users = sorted(user_sims.items(), key=lambda x: x[1], reverse=True)[\n",
                "                :k\n",
                "            ]\n",
                "            similarities_dict[user_id] = dict(top_k_users)\n",
                "        else:\n",
                "            similarities_dict[user_id] = {}\n",
                "\n",
                "    return similarities_dict"
            ]
        },
        {
            "cell_type": "code",
            "execution_count": 21,
            "metadata": {},
            "outputs": [
                {
                    "data": {
                        "application/vnd.jupyter.widget-view+json": {
                            "model_id": "c117fc65d7174ce0a81fa98b6b6be157",
                            "version_major": 2,
                            "version_minor": 0
                        },
                        "text/plain": [
                            "  0%|          | 0/11212 [00:00<?, ?it/s]"
                        ]
                    },
                    "metadata": {},
                    "output_type": "display_data"
                }
            ],
            "source": [
                "# compute the similarities\n",
                "similarities_dict = compute_user_similarities(\n",
                "    train_interaction_mask, train_user_item_sparse_dev, min_common=4\n",
                ")\n"
            ]
        },
        {
            "cell_type": "code",
            "execution_count": 22,
            "metadata": {},
            "outputs": [],
            "source": [
                "def predict_ratings(\n",
                "    user_id, song_id, similarities_dict, user_item_matrix, interaction_mask\n",
                "):\n",
                "    \"\"\"\n",
                "    Predict rating for a user-song pair using similar users\n",
                "\n",
                "    Parameters:\n",
                "    -----------\n",
                "    user_id: int\n",
                "        Index of the user\n",
                "    song_id: int\n",
                "        Index of the song\n",
                "    similarities_dict: dict\n",
                "        Dictionary containing {user_id: {neighbor_id: similarity_score}}\n",
                "    user_item_matrix: sparse matrix\n",
                "        Matrix containing the normalized ratings\n",
                "    interaction_mask: sparse matrix\n",
                "        Matrix indicating which ratings exist\n",
                "    \"\"\"\n",
                "    # Get similarity scores for this user\n",
                "    user_similarities = similarities_dict.get(user_id, {})\n",
                "\n",
                "    if not user_similarities:\n",
                "        return None\n",
                "\n",
                "    # Get column for this song from interaction mask\n",
                "    song_mask = interaction_mask.getcol(song_id)\n",
                "    # Get column for this song from ratings\n",
                "    song_ratings = user_item_matrix.getcol(song_id)\n",
                "\n",
                "    # Get similar users who rated this song\n",
                "    similar_users_ratings = []\n",
                "    similar_users_sims = []\n",
                "    for similar_user, similarity in user_similarities.items():\n",
                "        # Check if similar user has rated this song\n",
                "        if song_mask[similar_user, 0]:\n",
                "            rating = song_ratings[similar_user, 0]\n",
                "            similar_users_ratings.append(rating)\n",
                "            similar_users_sims.append(similarity)\n",
                "\n",
                "    # If no similar users have rated this song return None\n",
                "    if not similar_users_ratings:\n",
                "        return None\n",
                "\n",
                "    # computing the weighted average\n",
                "    similar_users_ratings = np.array(similar_users_ratings)\n",
                "    similar_users_sims = np.array(similar_users_sims)\n",
                "\n",
                "    prediction = np.sum(similar_users_ratings * similar_users_sims) / np.sum(\n",
                "        np.abs(similar_users_sims)\n",
                "    )\n",
                "\n",
                "    return prediction"
            ]
        },
        {
            "cell_type": "markdown",
            "metadata": {},
            "source": [
                "## Test performance"
            ]
        },
        {
            "cell_type": "code",
            "execution_count": 23,
            "metadata": {},
            "outputs": [
                {
                    "data": {
                        "application/vnd.jupyter.widget-view+json": {
                            "model_id": "89e0fc50d9644f10b2ca8da0760f444d",
                            "version_major": 2,
                            "version_minor": 0
                        },
                        "text/plain": [
                            "  0%|          | 0/30233 [00:00<?, ?it/s]"
                        ]
                    },
                    "metadata": {},
                    "output_type": "display_data"
                },
                {
                    "name": "stdout",
                    "output_type": "stream",
                    "text": [
                        "first 3 predictions and actuals\n",
                        "[np.float64(1.1184591125249828), np.float64(4.875), np.float64(1.81804114196637)]\n",
                        "[np.int64(1), np.int64(1), np.int64(5)]\n"
                    ]
                }
            ],
            "source": [
                "# evaluating predictions on test\n",
                "test_users, test_songs = test_interaction_mask.nonzero()\n",
                "\n",
                "predictions = []\n",
                "actuals = []\n",
                "\n",
                "for user_id, song_id in tqdm(zip(test_users, test_songs), total=len(test_users)):\n",
                "    pred_dev = predict_ratings(\n",
                "        user_id,\n",
                "        song_id,\n",
                "        similarities_dict,\n",
                "        train_user_item_sparse_dev,\n",
                "        train_interaction_mask,\n",
                "    )\n",
                "\n",
                "    if pred_dev is not None:\n",
                "        # Add back user mean\n",
                "        real_user_id = user_id_map_inv[user_id]\n",
                "        user_mean = user_means.loc[real_user_id]\n",
                "        pred_rating = pred_dev + user_mean\n",
                "\n",
                "        actual_rating = test_user_item_sparse[user_id, song_id]\n",
                "\n",
                "        predictions.append(pred_rating)\n",
                "        actuals.append(actual_rating)\n",
                "\n",
                "\n",
                "print(\"first 3 predictions and actuals\")\n",
                "print(predictions[:3])\n",
                "print(actuals[:3])\n"
            ]
        },
        {
            "cell_type": "code",
            "execution_count": 24,
            "metadata": {},
            "outputs": [
                {
                    "name": "stdout",
                    "output_type": "stream",
                    "text": [
                        "Test MAE: 3.968\n"
                    ]
                }
            ],
            "source": [
                "# Calculate MAE\n",
                "mae = np.mean(np.abs(np.array(predictions) - np.array(actuals)))\n",
                "print(f\"Test MAE: {mae:.3f}\")"
            ]
        },
        {
            "cell_type": "markdown",
            "metadata": {},
            "source": [
                "## Some recommendations"
            ]
        },
        {
            "cell_type": "markdown",
            "metadata": {},
            "source": [
                "I'm actually only using the training data to make recommendations here, but it's just for fun.\n"
            ]
        },
        {
            "cell_type": "code",
            "execution_count": 30,
            "metadata": {},
            "outputs": [
                {
                    "data": {
                        "text/html": [
                            "<div>\n",
                            "<style scoped>\n",
                            "    .dataframe tbody tr th:only-of-type {\n",
                            "        vertical-align: middle;\n",
                            "    }\n",
                            "\n",
                            "    .dataframe tbody tr th {\n",
                            "        vertical-align: top;\n",
                            "    }\n",
                            "\n",
                            "    .dataframe thead th {\n",
                            "        text-align: right;\n",
                            "    }\n",
                            "</style>\n",
                            "<table border=\"1\" class=\"dataframe\">\n",
                            "  <thead>\n",
                            "    <tr style=\"text-align: right;\">\n",
                            "      <th></th>\n",
                            "      <th>total_songs</th>\n",
                            "      <th>artist_songs</th>\n",
                            "      <th>ratio</th>\n",
                            "    </tr>\n",
                            "    <tr>\n",
                            "      <th>user_id</th>\n",
                            "      <th></th>\n",
                            "      <th></th>\n",
                            "      <th></th>\n",
                            "    </tr>\n",
                            "  </thead>\n",
                            "  <tbody>\n",
                            "    <tr>\n",
                            "      <th>0003798d61a8010dbfd8010180b7107cbbb8a649</th>\n",
                            "      <td>30</td>\n",
                            "      <td>0.0</td>\n",
                            "      <td>0.000000</td>\n",
                            "    </tr>\n",
                            "    <tr>\n",
                            "      <th>00061a993bb3add5cc37b2ea28a9552337f2fe4d</th>\n",
                            "      <td>40</td>\n",
                            "      <td>0.0</td>\n",
                            "      <td>0.000000</td>\n",
                            "    </tr>\n",
                            "    <tr>\n",
                            "      <th>000a43eb37163bb2f93020e107a2d543f27257b7</th>\n",
                            "      <td>14</td>\n",
                            "      <td>0.0</td>\n",
                            "      <td>0.000000</td>\n",
                            "    </tr>\n",
                            "    <tr>\n",
                            "      <th>000ae9c80733348ff64cd3716a27477b94578d9d</th>\n",
                            "      <td>11</td>\n",
                            "      <td>0.0</td>\n",
                            "      <td>0.000000</td>\n",
                            "    </tr>\n",
                            "    <tr>\n",
                            "      <th>000dd7137b511a0c6e45880de551c6a7019ee4c3</th>\n",
                            "      <td>60</td>\n",
                            "      <td>0.0</td>\n",
                            "      <td>0.000000</td>\n",
                            "    </tr>\n",
                            "    <tr>\n",
                            "      <th>...</th>\n",
                            "      <td>...</td>\n",
                            "      <td>...</td>\n",
                            "      <td>...</td>\n",
                            "    </tr>\n",
                            "    <tr>\n",
                            "      <th>fff3b1ee05d9750e8868de9470ea46fcb0776f66</th>\n",
                            "      <td>25</td>\n",
                            "      <td>0.0</td>\n",
                            "      <td>0.000000</td>\n",
                            "    </tr>\n",
                            "    <tr>\n",
                            "      <th>fff4438f5d96c5ecd66678f2a22fd7bbed59625f</th>\n",
                            "      <td>15</td>\n",
                            "      <td>2.0</td>\n",
                            "      <td>0.133333</td>\n",
                            "    </tr>\n",
                            "    <tr>\n",
                            "      <th>fff5304527f3c658ce48cd7afa5b76b7b4172852</th>\n",
                            "      <td>55</td>\n",
                            "      <td>0.0</td>\n",
                            "      <td>0.000000</td>\n",
                            "    </tr>\n",
                            "    <tr>\n",
                            "      <th>fffd0a1b26c37a55574d844277d176991d054f99</th>\n",
                            "      <td>34</td>\n",
                            "      <td>1.0</td>\n",
                            "      <td>0.029412</td>\n",
                            "    </tr>\n",
                            "    <tr>\n",
                            "      <th>fffe5b73c50c72ca9c54947efac1fcacf59c4a17</th>\n",
                            "      <td>47</td>\n",
                            "      <td>0.0</td>\n",
                            "      <td>0.000000</td>\n",
                            "    </tr>\n",
                            "  </tbody>\n",
                            "</table>\n",
                            "<p>11212 rows × 3 columns</p>\n",
                            "</div>"
                        ],
                        "text/plain": [
                            "                                          total_songs  artist_songs     ratio\n",
                            "user_id                                                                      \n",
                            "0003798d61a8010dbfd8010180b7107cbbb8a649           30           0.0  0.000000\n",
                            "00061a993bb3add5cc37b2ea28a9552337f2fe4d           40           0.0  0.000000\n",
                            "000a43eb37163bb2f93020e107a2d543f27257b7           14           0.0  0.000000\n",
                            "000ae9c80733348ff64cd3716a27477b94578d9d           11           0.0  0.000000\n",
                            "000dd7137b511a0c6e45880de551c6a7019ee4c3           60           0.0  0.000000\n",
                            "...                                               ...           ...       ...\n",
                            "fff3b1ee05d9750e8868de9470ea46fcb0776f66           25           0.0  0.000000\n",
                            "fff4438f5d96c5ecd66678f2a22fd7bbed59625f           15           2.0  0.133333\n",
                            "fff5304527f3c658ce48cd7afa5b76b7b4172852           55           0.0  0.000000\n",
                            "fffd0a1b26c37a55574d844277d176991d054f99           34           1.0  0.029412\n",
                            "fffe5b73c50c72ca9c54947efac1fcacf59c4a17           47           0.0  0.000000\n",
                            "\n",
                            "[11212 rows x 3 columns]"
                        ]
                    },
                    "execution_count": 30,
                    "metadata": {},
                    "output_type": "execute_result"
                }
            ],
            "source": [
                "# get specific artist data\n",
                "artist_df = df[df.artist == \"Coldplay\"]\n",
                "\n",
                "# Get users who listen to that artist and their total song count\n",
                "user_total_songs = df.groupby(\"user_id\").freq.sum()\n",
                "user_artist_songs = artist_df.groupby(\"user_id\").freq.sum()\n",
                "\n",
                "# Calculate ratio of Artist songs to total songs for each user\n",
                "artist_ratio = pd.DataFrame(\n",
                "    {\"total_songs\": user_total_songs, \"artist_songs\": user_artist_songs}\n",
                ").fillna(0)\n",
                "artist_ratio[\"ratio\"] = artist_ratio[\"artist_songs\"] / artist_ratio[\"total_songs\"]\n",
                "artist_ratio"
            ]
        },
        {
            "cell_type": "code",
            "execution_count": 31,
            "metadata": {},
            "outputs": [
                {
                    "name": "stdout",
                    "output_type": "stream",
                    "text": [
                        "Top Eminem fans (by ratio of Eminem songs to total songs):\n",
                        "                                          total_songs  artist_songs  ratio\n",
                        "user_id                                                                   \n",
                        "e02bc9a0ad4fd9c270e0197e00b5ff8c3088d62a           17          17.0    1.0\n",
                        "9d2f4eb96cd0df48e2eaf3ba0f07bbd3d1237d3e           21          21.0    1.0\n",
                        "89d6750983d96a6b22bd423e1ea80d633a397b18           11          11.0    1.0\n",
                        "617f1d5cdd8695ea1f3360da737e406b090cb26c           40          40.0    1.0\n",
                        "6d06c4543d053b659044331eee94fa3c04ad60bb           21          21.0    1.0\n"
                    ]
                }
            ],
            "source": [
                "# Find users with high artist ratio (e.g., >30%) and minimum number of artist songs (e.g., >3)\n",
                "dedicated_fans = artist_ratio[\n",
                "    (artist_ratio[\"ratio\"] > 0.3) & (artist_ratio[\"artist_songs\"] > 3)\n",
                "].sort_values(\"ratio\", ascending=False)\n",
                "\n",
                "# Display top dedicated Eminem fans\n",
                "print(\"Top Eminem fans (by ratio of Eminem songs to total songs):\")\n",
                "print(dedicated_fans.head())\n",
                "\n",
                "# extract top user id\n",
                "user_id = dedicated_fans.index[0]\n"
            ]
        },
        {
            "cell_type": "code",
            "execution_count": 32,
            "metadata": {},
            "outputs": [
                {
                    "data": {
                        "text/html": [
                            "<div>\n",
                            "<style scoped>\n",
                            "    .dataframe tbody tr th:only-of-type {\n",
                            "        vertical-align: middle;\n",
                            "    }\n",
                            "\n",
                            "    .dataframe tbody tr th {\n",
                            "        vertical-align: top;\n",
                            "    }\n",
                            "\n",
                            "    .dataframe thead th {\n",
                            "        text-align: right;\n",
                            "    }\n",
                            "</style>\n",
                            "<table border=\"1\" class=\"dataframe\">\n",
                            "  <thead>\n",
                            "    <tr style=\"text-align: right;\">\n",
                            "      <th></th>\n",
                            "      <th>user_id</th>\n",
                            "      <th>song_id</th>\n",
                            "      <th>freq</th>\n",
                            "      <th>artist</th>\n",
                            "      <th>title</th>\n",
                            "    </tr>\n",
                            "  </thead>\n",
                            "  <tbody>\n",
                            "    <tr>\n",
                            "      <th>149064</th>\n",
                            "      <td>e02bc9a0ad4fd9c270e0197e00b5ff8c3088d62a</td>\n",
                            "      <td>SOSQQGF12A6310F0FB</td>\n",
                            "      <td>1</td>\n",
                            "      <td>Coldplay</td>\n",
                            "      <td>Politik</td>\n",
                            "    </tr>\n",
                            "    <tr>\n",
                            "      <th>149065</th>\n",
                            "      <td>e02bc9a0ad4fd9c270e0197e00b5ff8c3088d62a</td>\n",
                            "      <td>SOKLRPJ12A8C13C3FE</td>\n",
                            "      <td>1</td>\n",
                            "      <td>Coldplay</td>\n",
                            "      <td>The Scientist</td>\n",
                            "    </tr>\n",
                            "    <tr>\n",
                            "      <th>149066</th>\n",
                            "      <td>e02bc9a0ad4fd9c270e0197e00b5ff8c3088d62a</td>\n",
                            "      <td>SOOWPBJ12A8C137FB4</td>\n",
                            "      <td>1</td>\n",
                            "      <td>Coldplay</td>\n",
                            "      <td>Lost!</td>\n",
                            "    </tr>\n",
                            "    <tr>\n",
                            "      <th>149067</th>\n",
                            "      <td>e02bc9a0ad4fd9c270e0197e00b5ff8c3088d62a</td>\n",
                            "      <td>SOEWTBE12A58A7E7C2</td>\n",
                            "      <td>1</td>\n",
                            "      <td>Coldplay</td>\n",
                            "      <td>Strawberry Swing</td>\n",
                            "    </tr>\n",
                            "    <tr>\n",
                            "      <th>149068</th>\n",
                            "      <td>e02bc9a0ad4fd9c270e0197e00b5ff8c3088d62a</td>\n",
                            "      <td>SOQWSHS12A6701C576</td>\n",
                            "      <td>1</td>\n",
                            "      <td>Coldplay</td>\n",
                            "      <td>X &amp; Y</td>\n",
                            "    </tr>\n",
                            "  </tbody>\n",
                            "</table>\n",
                            "</div>"
                        ],
                        "text/plain": [
                            "                                         user_id             song_id  freq  \\\n",
                            "149064  e02bc9a0ad4fd9c270e0197e00b5ff8c3088d62a  SOSQQGF12A6310F0FB     1   \n",
                            "149065  e02bc9a0ad4fd9c270e0197e00b5ff8c3088d62a  SOKLRPJ12A8C13C3FE     1   \n",
                            "149066  e02bc9a0ad4fd9c270e0197e00b5ff8c3088d62a  SOOWPBJ12A8C137FB4     1   \n",
                            "149067  e02bc9a0ad4fd9c270e0197e00b5ff8c3088d62a  SOEWTBE12A58A7E7C2     1   \n",
                            "149068  e02bc9a0ad4fd9c270e0197e00b5ff8c3088d62a  SOQWSHS12A6701C576     1   \n",
                            "\n",
                            "          artist             title  \n",
                            "149064  Coldplay           Politik  \n",
                            "149065  Coldplay     The Scientist  \n",
                            "149066  Coldplay             Lost!  \n",
                            "149067  Coldplay  Strawberry Swing  \n",
                            "149068  Coldplay             X & Y  "
                        ]
                    },
                    "execution_count": 32,
                    "metadata": {},
                    "output_type": "execute_result"
                }
            ],
            "source": [
                "# get all songs for this user\n",
                "user_songs = df[df[\"user_id\"] == user_id]\n",
                "user_songs.head()\n"
            ]
        },
        {
            "cell_type": "code",
            "execution_count": 33,
            "metadata": {},
            "outputs": [
                {
                    "name": "stdout",
                    "output_type": "stream",
                    "text": [
                        "Sayonara-Nostalgia by Base Ball Bear\n",
                        "Predicted # streams: 36.73\n",
                        "\n",
                        "With Or Without You by U2\n",
                        "Predicted # streams: 25.35\n",
                        "\n",
                        "Hold Me_ Thrill Me_ Kiss Me_ Kill Me by U2\n",
                        "Predicted # streams: 16.35\n",
                        "\n"
                    ]
                }
            ],
            "source": [
                "# get all songs that are not in the user's song list\n",
                "all_songs = df[\"song_id\"].unique()\n",
                "non_user_songs = np.setdiff1d(all_songs, user_songs[\"song_id\"].unique())\n",
                "non_user_songs\n",
                "\n",
                "# get the top K recommendations for this user\n",
                "K = 3\n",
                "top_recommendations = []\n",
                "\n",
                "for song_id in non_user_songs:\n",
                "    pred_dev = predict_ratings(\n",
                "        user_id_map[user_id],\n",
                "        song_id_map[song_id],\n",
                "        similarities_dict,\n",
                "        train_user_item_sparse_dev,\n",
                "        train_interaction_mask,\n",
                "    )\n",
                "\n",
                "    if pred_dev is not None:\n",
                "        top_recommendations.append((song_id, pred_dev))\n",
                "\n",
                "# sort by prediction and get the top K\n",
                "top_recommendations.sort(key=lambda x: x[1], reverse=True)\n",
                "top_recommendations[:K]\n",
                "\n",
                "# let's see the actual titles of the recommendations\n",
                "for song_id, pred_dev in top_recommendations[:K]:\n",
                "    # get the artist and song title\n",
                "    song_artist = df[df[\"song_id\"] == song_id][\"artist\"].values[0]\n",
                "    song_title = df[df[\"song_id\"] == song_id][\"title\"].values[0]\n",
                "    print(f\"{song_title} by {song_artist}\")\n",
                "\n",
                "    # print the prediction\n",
                "    print(f\"Predicted # streams: {pred_dev:.2f}\")\n",
                "    print()\n"
            ]
        }
    ],
    "metadata": {
        "kernelspec": {
            "display_name": ".venv",
            "language": "python",
            "name": "python3"
        },
        "language_info": {
            "codemirror_mode": {
                "name": "ipython",
                "version": 3
            },
            "file_extension": ".py",
            "mimetype": "text/x-python",
            "name": "python",
            "nbconvert_exporter": "python",
            "pygments_lexer": "ipython3",
            "version": "3.11.10"
        }
    },
    "nbformat": 4,
    "nbformat_minor": 2
}
